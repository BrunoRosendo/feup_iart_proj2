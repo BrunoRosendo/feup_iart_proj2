{
 "cells": [
  {
   "cell_type": "markdown",
   "id": "c7640a6c",
   "metadata": {},
   "source": [
    "# Natural Language Processing with Amazon Reviews\n",
    "\n",
    "Developed for the second project of the Artificial Intelligence course\n",
    "\n",
    "## Setup and Environment\n",
    "\n",
    "After installing Python and the necessary packages, run the following code to import them:"
   ]
  },
  {
   "cell_type": "code",
   "execution_count": 20,
   "id": "c28d746a",
   "metadata": {},
   "outputs": [],
   "source": [
    "%matplotlib inline\n",
    "\n",
    "import pandas as pd \n",
    "import numpy as np\n",
    "import matplotlib.pyplot as plt\n",
    "import seaborn as sb\n",
    "from sklearn.feature_extraction.text import CountVectorizer, TfidfVectorizer\n",
    "from sklearn.naive_bayes import MultinomialNB\n",
    "from sklearn.svm import LinearSVC\n",
    "from sklearn.linear_model import LogisticRegression, Perceptron\n",
    "from sklearn.tree import DecisionTreeClassifier\n",
    "from sklearn.ensemble import RandomForestClassifier\n",
    "from sklearn.metrics import *\n",
    "\n",
    "MAX_FEATURES = 10000"
   ]
  },
  {
   "cell_type": "markdown",
   "id": "23e738a9",
   "metadata": {},
   "source": [
    "## Implementation work"
   ]
  },
  {
   "cell_type": "markdown",
   "id": "83a47e52",
   "metadata": {},
   "source": [
    "### Generating a data set\n",
    "#### Obtaining features from the Bag-of-Words model"
   ]
  },
  {
   "cell_type": "code",
   "execution_count": 11,
   "id": "f839739c",
   "metadata": {
    "scrolled": true
   },
   "outputs": [],
   "source": [
    "train = pd.read_csv('./data/train_preprocessed.csv')\n",
    "test = pd.read_csv('./data/test_preprocessed.csv')"
   ]
  },
  {
   "cell_type": "markdown",
   "id": "b57253aa",
   "metadata": {},
   "source": [
    "Please choose one of the following vectorizers:\n",
    "#### Creating regular CountVectorizers (default)"
   ]
  },
  {
   "cell_type": "code",
   "execution_count": 3,
   "id": "9c6883c9",
   "metadata": {},
   "outputs": [],
   "source": [
    "titleVectorizer = CountVectorizer(max_features=MAX_FEATURES)\n",
    "textVectorizer = CountVectorizer(max_features=MAX_FEATURES)"
   ]
  },
  {
   "cell_type": "markdown",
   "id": "f00ce050",
   "metadata": {},
   "source": [
    "#### Creating 1-hot vectors"
   ]
  },
  {
   "cell_type": "code",
   "execution_count": null,
   "id": "a89c77a8",
   "metadata": {},
   "outputs": [],
   "source": [
    "titleVectorizer = CountVectorizer(binary=True, max_features=MAX_FEATURES)\n",
    "textVectorizer = CountVectorizer(binary=True, max_features=MAX_FEATURES)"
   ]
  },
  {
   "cell_type": "markdown",
   "id": "dc81a00a",
   "metadata": {},
   "source": [
    "#### Creating TF-IDF vectors"
   ]
  },
  {
   "cell_type": "code",
   "execution_count": null,
   "id": "c86fb0d4",
   "metadata": {
    "scrolled": true
   },
   "outputs": [],
   "source": [
    "titleVectorizer = TfidfVectorizer(max_features=MAX_FEATURES)\n",
    "textVectorizer = TfidfVectorizer(max_features=MAX_FEATURES)"
   ]
  },
  {
   "cell_type": "markdown",
   "id": "8f5c0e16",
   "metadata": {},
   "source": [
    "#### Creating bi-gram CountVectorizors"
   ]
  },
  {
   "cell_type": "code",
   "execution_count": 75,
   "id": "5a49379a",
   "metadata": {},
   "outputs": [],
   "source": [
    "titleVectorizer = CountVectorizer(ngram_range=(1, 2), max_features=MAX_FEATURES)\n",
    "textVectorizer = CountVectorizer(ngram_range=(1, 2), max_features=MAX_FEATURES)"
   ]
  },
  {
   "cell_type": "markdown",
   "id": "ff1fe250",
   "metadata": {},
   "source": [
    "#### Creating bi-gram TF-IDF vectors"
   ]
  },
  {
   "cell_type": "code",
   "execution_count": 12,
   "id": "87a4a810",
   "metadata": {},
   "outputs": [],
   "source": [
    "titleVectorizer = TfidfVectorizer(ngram_range=(1, 2), max_features=MAX_FEATURES)\n",
    "textVectorizer = TfidfVectorizer(ngram_range=(1, 2), max_features=MAX_FEATURES)"
   ]
  },
  {
   "cell_type": "markdown",
   "id": "cd345607",
   "metadata": {},
   "source": [
    "#### Creating tri-gram TF-IDF vectors"
   ]
  },
  {
   "cell_type": "code",
   "execution_count": 3,
   "id": "3c90931c",
   "metadata": {},
   "outputs": [],
   "source": [
    "titleVectorizer = TfidfVectorizer(ngram_range=(1, 3), max_features=MAX_FEATURES)\n",
    "textVectorizer = TfidfVectorizer(ngram_range=(1, 3), max_features=MAX_FEATURES)"
   ]
  },
  {
   "cell_type": "markdown",
   "id": "b0f77787",
   "metadata": {},
   "source": [
    "#### Transforming the dataset"
   ]
  },
  {
   "cell_type": "code",
   "execution_count": 13,
   "id": "4449108b",
   "metadata": {},
   "outputs": [
    {
     "name": "stdout",
     "output_type": "stream",
     "text": [
      "(5000, 2000)\n",
      "(5000, 2000)\n",
      "(5000, 4000)\n"
     ]
    }
   ],
   "source": [
    "trainTitleArr = list(map(str, train['review_title']))\n",
    "trainTextArr = list(map(str, train['review_text']))\n",
    "\n",
    "titleWords = titleVectorizer.fit_transform(trainTitleArr).toarray()\n",
    "textWords = textVectorizer.fit_transform(trainTextArr).toarray()\n",
    "\n",
    "allWords = np.array([np.concatenate((titleWords[i], textWords[i])) for i in range(len(titleWords))])\n",
    "\n",
    "print(titleWords.shape)\n",
    "print(textWords.shape)\n",
    "print(allWords.shape)"
   ]
  },
  {
   "cell_type": "markdown",
   "id": "d872871e",
   "metadata": {},
   "source": [
    "### Training Classifiers and Prediction"
   ]
  },
  {
   "cell_type": "code",
   "execution_count": 26,
   "id": "e7025165",
   "metadata": {},
   "outputs": [],
   "source": [
    "def predict(clf, train, test):\n",
    "    y = train['class_index']\n",
    "    # Train with allWords\n",
    "    clf.fit(allWords, y, sample_weight=1.0)\n",
    "    \n",
    "    testTitleArr = list(map(str, test['review_title']))\n",
    "    testTextArr = list(map(str, test['review_text']))\n",
    "\n",
    "    testTitleVector = titleVectorizer.transform(testTitleArr).toarray()\n",
    "    testTextVector = textVectorizer.transform(testTitleArr).toarray()\n",
    "\n",
    "    testAllWords = np.array([np.concatenate((testTitleVector[i], testTextVector[i])) for i in range(len(testTitleVector))])\n",
    "\n",
    "    return clf.predict(testAllWords)\n",
    "\n",
    "# MultinomialNB()"
   ]
  },
  {
   "cell_type": "markdown",
   "id": "20db34f2",
   "metadata": {},
   "source": [
    "### Analyse Results"
   ]
  },
  {
   "cell_type": "code",
   "execution_count": 17,
   "id": "0fa05366",
   "metadata": {},
   "outputs": [],
   "source": [
    "def analyze(prediction, test):\n",
    "    y_test = test['class_index']\n",
    "\n",
    "    # confusion matrix\n",
    "    confusionMatrix = confusion_matrix(y_test, prediction)\n",
    "    print(\"Confusion Matrix:\")\n",
    "    print(confusionMatrix)\n",
    "\n",
    "    accuracy = accuracy_score(y_test, prediction)\n",
    "\n",
    "    print(\"Accuracy: \", accuracy * 100, \" %\")\n",
    "    print(\"Precision: \", precision_score(y_test, prediction, average='weighted') * 100, \" %\")\n",
    "    print('Recall: ', recall_score(y_test, prediction, average='weighted') * 100, \" %\")\n",
    "    print('F1: ', f1_score(y_test, prediction, average='weighted') * 100, \" %\")"
   ]
  },
  {
   "cell_type": "markdown",
   "id": "b7eaad8f-0f60-42af-9747-d1669b2c1cf2",
   "metadata": {},
   "source": [
    "### Multinomial Naîve Bays"
   ]
  },
  {
   "cell_type": "code",
   "execution_count": 21,
   "id": "84fb6fec-daf4-4abf-861b-537f454143c3",
   "metadata": {},
   "outputs": [
    {
     "name": "stdout",
     "output_type": "stream",
     "text": [
      "MultinomialNB Results:\n",
      "Confusion Matrix:\n",
      "[[100  47  17  10  26]\n",
      " [ 66  41  47  27  19]\n",
      " [ 36  41  71  24  28]\n",
      " [ 28  19  24  73  56]\n",
      " [ 22  13  13  41 111]]\n",
      "Accuracy:  39.6  %\n",
      "Precision:  38.87834673471681  %\n",
      "Recall:  39.6  %\n",
      "F1:  38.90447816993883  %\n"
     ]
    }
   ],
   "source": [
    "prediction = predict(MultinomialNB(), train, test)\n",
    "print(\"MultinomialNB Results:\")\n",
    "analyze(prediction, test)"
   ]
  },
  {
   "cell_type": "markdown",
   "id": "2153922a-923c-4d3e-b54d-663d2940311e",
   "metadata": {},
   "source": [
    "### Random Forest"
   ]
  },
  {
   "cell_type": "code",
   "execution_count": 22,
   "id": "70143506-709a-44e8-8024-4e74a3760a57",
   "metadata": {},
   "outputs": [
    {
     "name": "stdout",
     "output_type": "stream",
     "text": [
      "RandomForestClassifier Results:\n",
      "Confusion Matrix:\n",
      "[[ 61  22  64  26  27]\n",
      " [ 30  36  86  23  25]\n",
      " [ 25  17 105  38  15]\n",
      " [ 18   4  70  51  57]\n",
      " [  9   1  57  37  96]]\n",
      "Accuracy:  34.9  %\n",
      "Precision:  37.58469488626557  %\n",
      "Recall:  34.9  %\n",
      "F1:  34.055911754981814  %\n"
     ]
    }
   ],
   "source": [
    "prediction = predict(RandomForestClassifier(), train, test)\n",
    "print(\"RandomForestClassifier Results:\")\n",
    "analyze(prediction, test)"
   ]
  },
  {
   "cell_type": "markdown",
   "id": "25173d2c-fb89-4769-8c29-7d7051e24a76",
   "metadata": {},
   "source": [
    "### Decision Tree"
   ]
  },
  {
   "cell_type": "code",
   "execution_count": 23,
   "id": "72b2289b-c402-4699-bfd6-13a85b28543d",
   "metadata": {},
   "outputs": [
    {
     "name": "stdout",
     "output_type": "stream",
     "text": [
      "DecisionTreeClassifier Results:\n",
      "Confusion Matrix:\n",
      "[[ 41  25  27  86  21]\n",
      " [ 24  27  31 101  17]\n",
      " [ 22  18  38 109  13]\n",
      " [ 13   8  36 100  43]\n",
      " [  7   9  23  86  75]]\n",
      "Accuracy:  28.1  %\n",
      "Precision:  31.79879099837632  %\n",
      "Recall:  28.1  %\n",
      "F1:  27.381959827018797  %\n"
     ]
    }
   ],
   "source": [
    "prediction = predict(DecisionTreeClassifier(), train, test)\n",
    "print(\"DecisionTreeClassifier Results:\")\n",
    "analyze(prediction, test)"
   ]
  },
  {
   "cell_type": "markdown",
   "id": "c3dae7ab-a235-4ddb-932d-43885ae6eb33",
   "metadata": {},
   "source": [
    "### Perceptron"
   ]
  },
  {
   "cell_type": "code",
   "execution_count": 27,
   "id": "8423c33b-12a9-4e43-9c6c-55ffef0b0397",
   "metadata": {},
   "outputs": [
    {
     "name": "stdout",
     "output_type": "stream",
     "text": [
      "Perceptron Results:\n",
      "Confusion Matrix:\n",
      "[[ 85  56  19  21  19]\n",
      " [ 62  44  38  29  27]\n",
      " [ 42  51  48  32  27]\n",
      " [ 30  24  20  62  64]\n",
      " [ 25  14  18  41 102]]\n",
      "Accuracy:  34.1  %\n",
      "Precision:  33.574852040384656  %\n",
      "Recall:  34.1  %\n",
      "F1:  33.51515498984475  %\n"
     ]
    }
   ],
   "source": [
    "prediction = predict(Perceptron(), train, test)\n",
    "print(\"Perceptron Results:\")\n",
    "analyze(prediction, test)"
   ]
  },
  {
   "cell_type": "markdown",
   "id": "8a5bc0ee-4846-47fc-ad85-d9ce622c250f",
   "metadata": {},
   "source": [
    "### Logistic Regression"
   ]
  },
  {
   "cell_type": "code",
   "execution_count": 28,
   "id": "f2802cfd-e474-4094-8ec0-cf71b38781a7",
   "metadata": {},
   "outputs": [
    {
     "name": "stdout",
     "output_type": "stream",
     "text": [
      "LogisticRegression Results:\n",
      "Confusion Matrix:\n",
      "[[ 96  48  16  12  28]\n",
      " [ 72  42  35  21  30]\n",
      " [ 40  44  53  32  31]\n",
      " [ 35  13  18  65  69]\n",
      " [ 28   9  10  35 118]]\n",
      "Accuracy:  37.4  %\n",
      "Precision:  36.92930178009594  %\n",
      "Recall:  37.4  %\n",
      "F1:  36.29676359209592  %\n"
     ]
    },
    {
     "name": "stderr",
     "output_type": "stream",
     "text": [
      "/home/bruno/anaconda3/lib/python3.9/site-packages/sklearn/linear_model/_logistic.py:814: ConvergenceWarning: lbfgs failed to converge (status=1):\n",
      "STOP: TOTAL NO. of ITERATIONS REACHED LIMIT.\n",
      "\n",
      "Increase the number of iterations (max_iter) or scale the data as shown in:\n",
      "    https://scikit-learn.org/stable/modules/preprocessing.html\n",
      "Please also refer to the documentation for alternative solver options:\n",
      "    https://scikit-learn.org/stable/modules/linear_model.html#logistic-regression\n",
      "  n_iter_i = _check_optimize_result(\n"
     ]
    }
   ],
   "source": [
    "prediction = predict(LogisticRegression(), train, test)\n",
    "print(\"LogisticRegression Results:\")\n",
    "analyze(prediction, test)"
   ]
  },
  {
   "cell_type": "markdown",
   "id": "49b8f22b-96f3-4977-869d-574fdfe5289d",
   "metadata": {},
   "source": [
    "### Linear SVC"
   ]
  },
  {
   "cell_type": "code",
   "execution_count": 29,
   "id": "e3947cd4-d0a6-43a6-8c5e-1f8f74704ba8",
   "metadata": {},
   "outputs": [
    {
     "name": "stdout",
     "output_type": "stream",
     "text": [
      "LinearSVC Results:\n",
      "Confusion Matrix:\n",
      "[[ 92  56  20  15  17]\n",
      " [ 70  41  40  28  21]\n",
      " [ 39  53  48  35  25]\n",
      " [ 33  19  18  65  65]\n",
      " [ 26  11  16  35 112]]\n",
      "Accuracy:  35.8  %\n",
      "Precision:  35.029746132610505  %\n",
      "Recall:  35.8  %\n",
      "F1:  34.989949621528574  %\n"
     ]
    }
   ],
   "source": [
    "prediction = predict(LinearSVC(), train, test)\n",
    "print(\"LinearSVC Results:\")\n",
    "analyze(prediction, test)"
   ]
  },
  {
   "cell_type": "code",
   "execution_count": null,
   "id": "66c77fe8-4486-42e7-a500-0594c36d7106",
   "metadata": {},
   "outputs": [],
   "source": []
  }
 ],
 "metadata": {
  "interpreter": {
   "hash": "58873ede596a2747dd7f16e364cae25e7acc47924c64b83e83112f7e389e5939"
  },
  "kernelspec": {
   "display_name": "Python 3 (ipykernel)",
   "language": "python",
   "name": "python3"
  },
  "language_info": {
   "codemirror_mode": {
    "name": "ipython",
    "version": 3
   },
   "file_extension": ".py",
   "mimetype": "text/x-python",
   "name": "python",
   "nbconvert_exporter": "python",
   "pygments_lexer": "ipython3",
   "version": "3.9.7"
  }
 },
 "nbformat": 4,
 "nbformat_minor": 5
}

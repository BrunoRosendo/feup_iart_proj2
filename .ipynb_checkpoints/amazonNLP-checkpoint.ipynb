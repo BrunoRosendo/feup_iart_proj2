{
 "cells": [
  {
   "cell_type": "markdown",
   "id": "4cdac4c7",
   "metadata": {},
   "source": [
    "# Natural Language Processing with Amazon Reviews\n",
    "\n",
    "Developed for the second project of the Artificial Intelligence course\n",
    "\n",
    "## Setup and Environment\n",
    "\n",
    "After installing Python and the necessary packages, run the following code to import them:"
   ]
  },
  {
   "cell_type": "code",
   "execution_count": null,
   "id": "c28d746a",
   "metadata": {},
   "outputs": [],
   "source": [
    "%matplotlib inline\n",
    "\n",
    "import pandas as pd \n",
    "import numpy as np\n",
    "import matplotlib.pyplot as plt\n",
    "import re\n",
    "import seaborn as sb\n",
    "from nltk.corpus import stopwords\n",
    "from nltk.stem.porter import PorterStemmer\n",
    "from sklearn.feature_extraction.text import CountVectorizer\n",
    "from wordcloud import WordCloud\n",
    "from sklearn.naive_bayes import MultinomialNB\n",
    "from sklearn.metrics import *\n",
    "\n",
    "import nltk\n",
    "nltk.download('stopwords')"
   ]
  },
  {
   "cell_type": "markdown",
   "id": "23e738a9",
   "metadata": {},
   "source": [
    "## Implementation work\n",
    "\n",
    "### Loading the data"
   ]
  },
  {
   "cell_type": "code",
   "execution_count": null,
   "id": "88845535",
   "metadata": {},
   "outputs": [],
   "source": [
    "train = pd.read_csv('./data/train.csv', dtype={'class_index': int, 'review_title': str, 'review_text': str}).sample(10000)  # Sample data with all classes uniformly\n",
    "test = pd.read_csv('./data/test.csv', dtype={'class_index': int, 'review_title': str, 'review_text': str}).sample(2160)\n",
    "train.head()\n"
   ]
  },
  {
   "cell_type": "markdown",
   "id": "9000df20",
   "metadata": {},
   "source": [
    "### Searching for null values"
   ]
  },
  {
   "cell_type": "code",
   "execution_count": 3,
   "id": "5fe92e97",
   "metadata": {},
   "outputs": [
    {
     "name": "stdout",
     "output_type": "stream",
     "text": [
      "Columns with empty review text 0\n",
      "Columns with missing review text 0\n",
      "Columns with empty review title 0\n",
      "Columns with missing review title 0\n",
      "Columns with empty class index 0\n",
      "Columns with missing class index 0\n"
     ]
    }
   ],
   "source": [
    "print(\"Columns with empty review text\", len(train.loc[train['review_text'] == \"\"]))\n",
    "print(\"Columns with missing review text\", len(train.loc[train['review_text'] == None]))\n",
    "\n",
    "print(\"Columns with empty review title\", len(train.loc[train['review_title'] == \"\"]))\n",
    "print(\"Columns with missing review title\", len(train.loc[train['review_title'] == None]))\n",
    "\n",
    "print(\"Columns with empty class index\", len(train.loc[train['class_index'] == \"\"]))\n",
    "print(\"Columns with missing class index\", len(train.loc[train['class_index'] == None]))"
   ]
  },
  {
   "cell_type": "markdown",
   "id": "8015c34c",
   "metadata": {},
   "source": [
    "As we can see, the dataset does not contain any empty or missing values"
   ]
  },
  {
   "cell_type": "markdown",
   "id": "e757cdd7",
   "metadata": {},
   "source": [
    "### Studying the data"
   ]
  },
  {
   "cell_type": "code",
   "execution_count": 4,
   "id": "95512ad0",
   "metadata": {},
   "outputs": [
    {
     "data": {
      "text/plain": [
       "<AxesSubplot:>"
      ]
     },
     "execution_count": 4,
     "metadata": {},
     "output_type": "execute_result"
    },
    {
     "data": {
      "image/png": "[encoded data removed]",
      "text/plain": [
       "<Figure size 432x288 with 1 Axes>"
      ]
     },
     "metadata": {
      "needs_background": "light"
     },
     "output_type": "display_data"
    }
   ],
   "source": [
    "train['class_index'].value_counts().plot(kind='bar')"
   ]
  },
  {
   "cell_type": "markdown",
   "id": "4a6c377b",
   "metadata": {},
   "source": [
    "As the dataset creators have told us, the training dataset consists of 600 thousand samples for each review score, from 1 to 5."
   ]
  },
  {
   "cell_type": "markdown",
   "id": "77d4c019",
   "metadata": {},
   "source": [
    "##### Most frequent Words"
   ]
  },
  {
   "cell_type": "code",
   "execution_count": 5,
   "id": "cfa9616e",
   "metadata": {},
   "outputs": [
    {
     "name": "stderr",
     "output_type": "stream",
     "text": [
      "C:\\Users\\monki\\anaconda3\\lib\\site-packages\\seaborn\\_decorators.py:36: FutureWarning: Pass the following variables as keyword args: x, y. From version 0.12, the only valid positional argument will be `data`, and passing other arguments without an explicit keyword will result in an error or misinterpretation.\n",
      "  warnings.warn(\n"
     ]
    },
    {
     "data": {
      "text/plain": [
       "[Text(0.5, 0, 'Words'), Text(0, 0.5, 'Occurrencies')]"
      ]
     },
     "execution_count": 5,
     "metadata": {},
     "output_type": "execute_result"
    },
    {
     "data": {
      "image/png": "[encoded data removed]",
      "text/plain": [
       "<Figure size 432x288 with 1 Axes>"
      ]
     },
     "metadata": {
      "needs_background": "light"
     },
     "output_type": "display_data"
    }
   ],
   "source": [
    "from collections import Counter\n",
    "\n",
    "mostUsed = pd.Series(' '.join(train['review_text']).lower().split()).value_counts()[:10]\n",
    "mostUsedGraph = sb.barplot(mostUsed.index, mostUsed.values)\n",
    "mostUsedGraph.set(xlabel=\"Words\", ylabel=\"Occurrencies\")"
   ]
  },
  {
   "cell_type": "markdown",
   "id": "b5dcaebe",
   "metadata": {},
   "source": [
    "### Treating the data\n",
    "##### Cleanup and Normalization"
   ]
  },
  {
   "cell_type": "code",
   "execution_count": null,
   "id": "e6eec28f",
   "metadata": {},
   "outputs": [],
   "source": [
    "ps = PorterStemmer()\n",
    "\n",
    "def normalize(text):\n",
    "    # remove non alpha chars\n",
    "    text = re.sub('[^a-zA-Z]', ' ', text)   # TODO: CHECK THIS REGULAR EXPRESSION\n",
    "    # to lower-case and tokenize\n",
    "    text = text.lower().split()\n",
    "    # stemming and stop word removal\n",
    "    text = ' '.join([ps.stem(w) for w in text if not w in set(stopwords.words('english'))])\n",
    "\n",
    "    return text\n",
    "\n",
    "\n",
    "train['review_text'] = train['review_text'].apply(normalize)\n",
    "\n",
    "train['review_title'] = train['review_title'].apply(normalize)\n",
    "train.head()\n",
    "\n",
    "\n",
    "test['review_text'] = test['review_text'].apply(normalize)\n",
    "test['review_title'] = test['review_title'].apply(normalize)"
   ]
  },
  {
   "cell_type": "markdown",
   "id": "01577f01",
   "metadata": {},
   "source": [
    "##### Saving Preprocessed data\n",
    "Since the original dataset is very large, we can sample it and save the preprocessed data in a different csv file, so it can be used later."
   ]
  },
  {
   "cell_type": "code",
   "execution_count": null,
   "id": "761c0fe7",
   "metadata": {},
   "outputs": [],
   "source": [
    "def savePreprocessedData(dataSet, fileName):\n",
    "    dataSet.to_csv(fileName, index=False)\n",
    "\n",
    "savePreprocessedData(train, './data/train_preprocessed.csv')\n",
    "savePreprocessedData(test, './data/test_preprocessed.csv')"
   ]
  },
  {
   "cell_type": "markdown",
   "id": "c99dff09",
   "metadata": {},
   "source": [
    "##### Generating wordclouds\n",
    "A visually appealing way of observing words in a dataset is by showing wordclouds. In order to make a single wordcloud for a whole column, we can join all the cells together. We then pass it to WordCloud to generate a wordcloud: it will automatically assign weights to words based on the number of occurrences of each word.\n",
    "\n",
    "These are the most common words in the reviews' titles:"
   ]
  },
  {
   "cell_type": "code",
   "execution_count": null,
   "id": "e1a4629f",
   "metadata": {},
   "outputs": [],
   "source": [
    "wordcloudTitle = WordCloud().generate(\" \".join([str(x) for x in train['review_title'].values]))\n",
    "\n",
    "plt.figure()\n",
    "plt.imshow(wordcloudTitle)\n",
    "plt.axis('off')\n",
    "plt.show()"
   ]
  },
  {
   "cell_type": "markdown",
   "id": "a7505d6d",
   "metadata": {},
   "source": [
    "These are the most common words in the reviews' text:"
   ]
  },
  {
   "cell_type": "code",
   "execution_count": null,
   "id": "109e5ec2",
   "metadata": {},
   "outputs": [],
   "source": [
    "wordcloudText = WordCloud().generate(\" \".join([str(x) for x in train['review_text'].values]))\n",
    "\n",
    "plt.figure()\n",
    "plt.imshow(wordcloudText)\n",
    "plt.axis('off')\n",
    "plt.show()"
   ]
  },
  {
   "cell_type": "markdown",
   "id": "c9a01b43",
   "metadata": {},
   "source": [
    "It would also be interesting to visualize a wordcloud for each of the reviews' classes (1 to 5):"
   ]
  },
  {
   "cell_type": "code",
   "execution_count": null,
   "id": "5dd6184e",
   "metadata": {},
   "outputs": [],
   "source": [
    "wordsPerClass = {\n",
    "    1: (\"\", \"\"), # title and text\n",
    "    2: (\"\", \"\"),\n",
    "    3: (\"\", \"\"),\n",
    "    4: (\"\", \"\"),\n",
    "    5: (\"\", \"\"),\n",
    "}\n",
    "\n",
    "for i in range(len(train)):\n",
    "    classId = int(train['class_index'].values[i])\n",
    "    titleWords = train['review_title'].values[i]\n",
    "    textWords = train['review_text'].values[i]\n",
    "    \n",
    "    wordsPerClass[classId] = (wordsPerClass[classId][0] + titleWords, wordsPerClass[classId][1] + textWords)\n",
    "\n",
    "for i in range(1, 6):\n",
    "    # Word cloud for class's titles\n",
    "    wordcloudTitle = WordCloud().generate(wordsPerClass[i][0])\n",
    "    print(f\"Word cloud for class {i}'s titles:\")\n",
    "\n",
    "    plt.figure()\n",
    "    plt.imshow(wordcloudTitle)\n",
    "    plt.axis('off')\n",
    "    plt.show()\n",
    "\n",
    "    # Word cloud for class's text\n",
    "    wordcloudText = WordCloud().generate(wordsPerClass[i][1])\n",
    "    print(f\"Word cloud for class {i}'s text:\")\n",
    "\n",
    "    plt.figure()\n",
    "    plt.imshow(wordcloudText)\n",
    "    plt.axis('off')\n",
    "    plt.show()"
   ]
  },
  {
   "cell_type": "markdown",
   "id": "83a47e52",
   "metadata": {},
   "source": [
    "### Generating a data set\n",
    "#### Obtaining features from the Bag-of-Words model"
   ]
  },
  {
   "cell_type": "code",
   "execution_count": null,
   "id": "f839739c",
   "metadata": {},
   "outputs": [],
   "source": [
    "train = pd.read_csv('./data/train_preprocessed.csv')\n",
    "test = pd.read_csv('./data/test_preprocessed.csv')\n",
    "\n",
    "vectorizer = CountVectorizer()\n",
    "\n",
    "trainTitleArr = map(str, train['review_title'])\n",
    "trainTextArr = map(str, train['review_text'])\n",
    "\n",
    "titleWords = vectorizer.fit_transform(trainTitleArr).toarray()\n",
    "textWords = vectorizer.fit_transform(trainTextArr).toarray()\n",
    "\n",
    "print(titleWords.shape)\n",
    "# print(vectorizer.get_feature_names())\n",
    "print(textWords.shape)"
   ]
  },
  {
   "cell_type": "markdown",
   "id": "d872871e",
   "metadata": {},
   "source": [
    "### Obtaining the Test classes"
   ]
  },
  {
   "cell_type": "code",
   "execution_count": null,
   "id": "e7025165",
   "metadata": {},
   "outputs": [],
   "source": [
    "y = train['class_index']\n",
    "\n",
    "# print(X.shape, y.shape)"
   ]
  },
  {
   "cell_type": "markdown",
   "id": "59ea43d9",
   "metadata": {},
   "source": [
    "### Training Classifiers"
   ]
  },
  {
   "cell_type": "code",
   "execution_count": null,
   "id": "c8dc25e8",
   "metadata": {},
   "outputs": [],
   "source": [
    "clf = MultinomialNB()\n",
    "clf.fit([[titleWords[i], textWords[i]] for i in range(len(textWords))], y, [0.7, 0.3])\n",
    "\n",
    "testArr = map(str, test['review_title'])\n",
    "testVector = vectorizer.transform(testArr).toarray()\n",
    "\n",
    "y_pred = clf.predict(testVector)\n",
    "print(y_pred)"
   ]
  },
  {
   "cell_type": "markdown",
   "id": "20db34f2",
   "metadata": {},
   "source": [
    "### Analyse Results"
   ]
  },
  {
   "cell_type": "code",
   "execution_count": null,
   "id": "0fa05366",
   "metadata": {},
   "outputs": [],
   "source": [
    "# confusion matrix\n",
    "confusionMatrix = confusion_matrix(test['class_index'], y_pred)\n",
    "print(confusionMatrix)\n",
    "\n",
    "correctReviews = 0\n",
    "for i in range(len(confusionMatrix)):\n",
    "    correctReviews += confusionMatrix[i][i]\n",
    "\n",
    "incorrectReviews = sum(map(sum, confusionMatrix)) - correctReviews\n",
    "# print(\"correctReviews:\", correctReviews)\n",
    "# print(\"incorrectReviews:\", incorrectReviews)\n",
    "\n",
    "accuracy = (correctReviews / (incorrectReviews + correctReviews)) * 100\n",
    "\n",
    "# accuracy, precision, recall, f1\n",
    "# CHECK IF CONFUSION MATRIX IS ORDER FROM 1-5 RATING\n",
    "print(\"Accuracy:\", accuracy)\n",
    "for i in range(5):\n",
    "    colSum = 0\n",
    "    for j in range(5):\n",
    "        colSum += confusionMatrix[j][i]\n",
    "    \n",
    "    precision = (confusionMatrix[i][i] / colSum)\n",
    "    recall = (confusionMatrix[i][i] / sum(confusionMatrix[i]))\n",
    "    fMeasure = (2*precision*recall) / (precision + recall) \n",
    "    print(\"-------\\n\", i+1, \"Rating Results:\")\n",
    "    print(\"Precision:\", precision * 100, \"%\")\n",
    "    print(\"Recall:\", recall * 100, \"%\")\n",
    "    print(\"F-measure:\", fMeasure * 100, \"%\")"
   ]
  },
  {
   "cell_type": "code",
   "execution_count": null,
   "id": "87b49301",
   "metadata": {},
   "outputs": [],
   "source": []
  }
 ],
 "metadata": {
  "interpreter": {
   "hash": "58873ede596a2747dd7f16e364cae25e7acc47924c64b83e83112f7e389e5939"
  },
  "kernelspec": {
   "display_name": "Python 3 (ipykernel)",
   "language": "python",
   "name": "python3"
  },
  "language_info": {
   "codemirror_mode": {
    "name": "ipython",
    "version": 3
   },
   "file_extension": ".py",
   "mimetype": "text/x-python",
   "name": "python",
   "nbconvert_exporter": "python",
   "pygments_lexer": "ipython3",
   "version": "3.9.12"
  }
 },
 "nbformat": 4,
 "nbformat_minor": 5
}

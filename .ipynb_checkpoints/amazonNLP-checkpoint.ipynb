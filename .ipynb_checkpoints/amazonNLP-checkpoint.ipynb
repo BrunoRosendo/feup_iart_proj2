{
 "cells": [
  {
   "cell_type": "markdown",
   "id": "c7640a6c",
   "metadata": {},
   "source": [
    "# Natural Language Processing with Amazon Reviews\n",
    "\n",
    "Developed for the second project of the Artificial Intelligence course\n",
    "\n",
    "## Setup and Environment\n",
    "\n",
    "After installing Python and the necessary packages, run the following code to import them:"
   ]
  },
  {
   "cell_type": "code",
   "execution_count": 1,
   "id": "c28d746a",
   "metadata": {},
   "outputs": [],
   "source": [
    "%matplotlib inline\n",
    "\n",
    "import pandas as pd \n",
    "import numpy as np\n",
    "import matplotlib.pyplot as plt\n",
    "import seaborn as sb\n",
    "from sklearn.feature_extraction.text import CountVectorizer\n",
    "from sklearn.feature_extraction.text import TfidfVectorizer\n",
    "from sklearn.naive_bayes import MultinomialNB\n",
    "from sklearn.metrics import *\n",
    "\n",
    "MAX_FEATURES = 10000"
   ]
  },
  {
   "cell_type": "markdown",
   "id": "23e738a9",
   "metadata": {},
   "source": [
    "## Implementation work"
   ]
  },
  {
   "cell_type": "markdown",
   "id": "83a47e52",
   "metadata": {},
   "source": [
    "### Generating a data set\n",
    "#### Obtaining features from the Bag-of-Words model"
   ]
  },
  {
   "cell_type": "code",
   "execution_count": 2,
   "id": "f839739c",
   "metadata": {
    "scrolled": true
   },
   "outputs": [],
   "source": [
    "train = pd.read_csv('./data/train_preprocessed.csv')\n",
    "test = pd.read_csv('./data/test_preprocessed.csv')"
   ]
  },
  {
   "cell_type": "markdown",
   "id": "b57253aa",
   "metadata": {},
   "source": [
    "Please choose one of the following vectorizers:\n",
    "#### Creating regular CountVectorizers (default)"
   ]
  },
  {
   "cell_type": "code",
   "execution_count": 86,
   "id": "9c6883c9",
   "metadata": {},
   "outputs": [],
   "source": [
    "titleVectorizer = CountVectorizer(max_features=MAX_FEATURES)\n",
    "textVectorizer = CountVectorizer(max_features=MAX_FEATURES)"
   ]
  },
  {
   "cell_type": "markdown",
   "id": "f00ce050",
   "metadata": {},
   "source": [
    "#### Creating 1-hot vectors"
   ]
  },
  {
   "cell_type": "code",
   "execution_count": null,
   "id": "a89c77a8",
   "metadata": {},
   "outputs": [],
   "source": [
    "titleVectorizer = CountVectorizer(binary=True, max_features=MAX_FEATURES)\n",
    "textVectorizer = CountVectorizer(binary=True, max_features=MAX_FEATURES)"
   ]
  },
  {
   "cell_type": "markdown",
   "id": "dc81a00a",
   "metadata": {},
   "source": [
    "#### Creating TF-IDF vectors"
   ]
  },
  {
   "cell_type": "code",
   "execution_count": null,
   "id": "c86fb0d4",
   "metadata": {
    "scrolled": true
   },
   "outputs": [],
   "source": [
    "titleVectorizer = TfidfVectorizer(max_features=MAX_FEATURES)\n",
    "textVectorizer = TfidfVectorizer(max_features=MAX_FEATURES)"
   ]
  },
  {
   "cell_type": "markdown",
   "id": "8f5c0e16",
   "metadata": {},
   "source": [
    "#### Creating bi-gram CountVectorizors"
   ]
  },
  {
   "cell_type": "code",
   "execution_count": 75,
   "id": "5a49379a",
   "metadata": {},
   "outputs": [],
   "source": [
    "titleVectorizer = CountVectorizer(ngram_range=(1, 2), max_features=MAX_FEATURES)\n",
    "textVectorizer = CountVectorizer(ngram_range=(1, 2), max_features=MAX_FEATURES)"
   ]
  },
  {
   "cell_type": "markdown",
   "id": "ff1fe250",
   "metadata": {},
   "source": [
    "#### Creating bi-gram TF-IDF vectors"
   ]
  },
  {
   "cell_type": "code",
   "execution_count": 70,
   "id": "87a4a810",
   "metadata": {},
   "outputs": [],
   "source": [
    "titleVectorizer = TfidfVectorizer(ngram_range=(1, 2), max_features=MAX_FEATURES)\n",
    "textVectorizer = TfidfVectorizer(ngram_range=(1, 2), max_features=MAX_FEATURES)"
   ]
  },
  {
   "cell_type": "markdown",
   "id": "cd345607",
   "metadata": {},
   "source": [
    "#### Creating tri-gram TF-IDF vectors"
   ]
  },
  {
   "cell_type": "code",
   "execution_count": 3,
   "id": "3c90931c",
   "metadata": {},
   "outputs": [],
   "source": [
    "titleVectorizer = TfidfVectorizer(ngram_range=(1, 3), max_features=MAX_FEATURES)\n",
    "textVectorizer = TfidfVectorizer(ngram_range=(1, 3), max_features=MAX_FEATURES)"
   ]
  },
  {
   "cell_type": "markdown",
   "id": "b0f77787",
   "metadata": {},
   "source": [
    "#### Transforming the dataset"
   ]
  },
  {
   "cell_type": "code",
   "execution_count": 4,
   "id": "4449108b",
   "metadata": {},
   "outputs": [
    {
     "name": "stdout",
     "output_type": "stream",
     "text": [
      "(5000, 10000)\n",
      "(5000, 10000)\n",
      "(5000, 20000)\n"
     ]
    }
   ],
   "source": [
    "trainTitleArr = list(map(str, train['review_title']))\n",
    "trainTextArr = list(map(str, train['review_text']))\n",
    "\n",
    "titleWords = titleVectorizer.fit_transform(trainTitleArr).toarray()\n",
    "textWords = textVectorizer.fit_transform(trainTextArr).toarray()\n",
    "\n",
    "allWords = np.array([np.concatenate((titleWords[i], textWords[i])) for i in range(len(titleWords))])\n",
    "\n",
    "print(titleWords.shape)\n",
    "# print(vectorizer.get_feature_names())\n",
    "print(textWords.shape)\n",
    "\n",
    "print(allWords.shape)"
   ]
  },
  {
   "cell_type": "markdown",
   "id": "d872871e",
   "metadata": {},
   "source": [
    "### Training Classifiers"
   ]
  },
  {
   "cell_type": "code",
   "execution_count": 5,
   "id": "e7025165",
   "metadata": {},
   "outputs": [
    {
     "data": {
      "text/plain": [
       "MultinomialNB()"
      ]
     },
     "execution_count": 5,
     "metadata": {},
     "output_type": "execute_result"
    }
   ],
   "source": [
    "y = train['class_index']\n",
    "\n",
    "clf = MultinomialNB()\n",
    "\n",
    "# Train with allWords\n",
    "clf.fit(allWords, y, sample_weight=1)"
   ]
  },
  {
   "cell_type": "markdown",
   "id": "59ea43d9",
   "metadata": {},
   "source": [
    "### Prediction"
   ]
  },
  {
   "cell_type": "code",
   "execution_count": 6,
   "id": "c8dc25e8",
   "metadata": {},
   "outputs": [
    {
     "name": "stdout",
     "output_type": "stream",
     "text": [
      "[1 1 2 2 1 1 1 1 2 1 1 2 1 1 5 3 2 1 1 1 3 2 1 5 3 1 1 5 3 2 3 1 1 1 2 5 2\n",
      " 1 1 5 2 1 1 2 2 1 1 2 1 1 2 1 4 1 1 1 1 5 1 3 1 4 2 1 1 4 2 1 2 1 1 1 2 1\n",
      " 4 3 2 1 1 1 1 1 1 5 1 1 2 1 2 2 1 1 1 2 5 1 3 2 1 1 3 3 1 1 1 5 1 2 1 5 1\n",
      " 2 1 1 3 3 3 3 2 1 5 1 1 5 1 1 4 2 1 1 5 3 2 1 1 1 1 2 1 1 1 1 4 2 5 2 2 5\n",
      " 3 2 5 2 1 1 2 2 1 2 1 1 1 5 5 4 3 1 2 1 1 3 1 3 1 1 5 1 2 2 3 4 1 1 1 1 3\n",
      " 1 1 1 1 1 3 4 2 1 1 5 2 1 3 3 1 1 1 3 2 5 4 3 2 1 1 3 3 3 1 3 2 1 3 1 3 3\n",
      " 5 3 2 4 2 1 1 4 3 5 1 1 2 5 2 1 1 3 2 2 3 3 5 2 2 2 3 1 2 1 2 2 2 1 1 1 3\n",
      " 1 5 3 3 1 5 2 2 3 2 3 1 3 3 4 2 1 2 1 4 2 2 2 3 5 1 3 1 4 1 4 3 3 5 4 2 4\n",
      " 1 4 1 1 1 2 4 1 2 1 1 2 5 1 1 1 1 4 3 1 3 2 1 3 3 4 2 2 2 2 1 5 5 1 1 4 4\n",
      " 3 2 2 2 4 1 1 1 5 3 2 3 3 2 1 1 4 5 2 2 2 3 3 5 4 3 3 1 1 2 3 2 4 3 2 3 4\n",
      " 4 2 5 4 5 2 1 1 5 5 2 3 2 1 3 1 1 3 1 1 2 2 1 2 4 3 1 2 2 2 3 5 1 2 4 1 1\n",
      " 3 1 3 5 3 4 3 5 3 2 4 2 5 2 1 2 2 2 3 3 2 3 1 1 1 2 3 5 2 3 3 1 3 2 4 5 4\n",
      " 3 4 3 2 1 2 2 3 3 2 1 3 3 1 5 2 5 3 5 4 3 3 2 3 2 3 3 3 3 5 2 2 5 5 3 3 2\n",
      " 1 2 1 4 1 2 1 3 2 5 4 3 2 4 1 3 5 4 2 4 5 3 3 5 3 3 2 4 5 5 3 5 3 3 4 2 3\n",
      " 3 3 5 3 4 2 4 3 3 3 1 3 1 1 4 5 5 3 3 3 3 1 3 5 1 3 3 5 1 3 4 1 3 1 2 5 1\n",
      " 5 1 3 1 2 5 1 4 3 3 5 3 4 1 3 2 2 3 3 3 5 4 3 4 3 3 2 4 2 3 5 3 3 1 3 3 3\n",
      " 4 4 2 2 1 4 4 5 5 3 2 5 4 4 3 5 1 5 2 4 3 5 3 4 4 3 4 5 5 4 5 1 5 4 5 4 4\n",
      " 5 5 5 2 4 5 4 3 1 4 5 4 5 1 5 2 4 4 1 4 5 4 5 4 3 4 3 4 5 4 3 4 1 3 4 2 1\n",
      " 4 5 4 5 5 3 3 4 1 4 3 4 3 4 5 1 2 1 4 4 3 5 3 2 5 3 4 3 1 4 4 4 2 5 4 4 5\n",
      " 4 2 5 1 5 4 4 5 5 2 4 5 5 4 4 4 4 4 4 2 2 3 4 5 5 4 5 2 1 1 1 4 2 4 5 2 3\n",
      " 4 4 1 4 2 1 4 3 4 5 4 5 5 5 5 4 3 5 4 5 4 4 5 3 3 2 5 1 2 4 5 4 4 3 1 1 5\n",
      " 4 5 5 3 3 4 5 3 1 3 4 1 5 5 5 5 5 4 4 1 3 5 4 4 1 5 5 5 5 4 5 3 5 4 5 5 2\n",
      " 1 5 5 5 5 5 5 5 5 5 5 3 2 4 5 5 2 5 2 5 3 1 5 5 4 5 5 5 4 4 5 4 2 4 5 5 5\n",
      " 5 5 2 5 4 5 5 4 1 5 5 5 3 1 1 5 4 5 4 5 5 5 4 5 4 2 5 4 2 5 4 4 5 4 2 4 4\n",
      " 5 5 4 3 5 5 4 5 5 4 5 5 5 5 5 1 5 5 5 4 4 5 3 4 5 5 4 5 5 5 5 4 2 5 1 5 1\n",
      " 5 5 5 4 5 3 5 5 4 5 3 4 5 1 5 5 2 4 5 5 5 5 5 5 4 1 4 3 4 1 5 1 5 4 5 5 4\n",
      " 5 5 2 5 5 5 1 1 5 5 2 4 5 4 1 5 1 5 4 4 1 2 5 2 4 1 5 5 4 5 4 5 1 5 1 1 5\n",
      " 4]\n"
     ]
    }
   ],
   "source": [
    "testTitleArr = list(map(str, test['review_title']))\n",
    "testTextArr = list(map(str, test['review_text']))\n",
    "\n",
    "testTitleVector = titleVectorizer.transform(testTitleArr).toarray()\n",
    "testTextVector = textVectorizer.transform(testTitleArr).toarray()\n",
    "\n",
    "testAllWords = np.array([np.concatenate((testTitleVector[i], testTextVector[i])) for i in range(len(testTitleVector))])\n",
    "\n",
    "y_pred = clf.predict(testAllWords)\n",
    "print(y_pred)"
   ]
  },
  {
   "cell_type": "markdown",
   "id": "20db34f2",
   "metadata": {},
   "source": [
    "### Analyse Results"
   ]
  },
  {
   "cell_type": "code",
   "execution_count": 7,
   "id": "0fa05366",
   "metadata": {},
   "outputs": [
    {
     "name": "stdout",
     "output_type": "stream",
     "text": [
      "[[104  43  24   9  20]\n",
      " [ 59  54  45  23  19]\n",
      " [ 32  37  73  27  31]\n",
      " [ 23  18  30  71  58]\n",
      " [ 22  15   9  46 108]]\n",
      "Accuracy: 41.0\n",
      "-------\n",
      " 1 Rating Results:\n",
      "Precision: 43.333333333333336 %\n",
      "Recall: 52.0 %\n",
      "F-measure: 47.27272727272728 %\n",
      "-------\n",
      " 2 Rating Results:\n",
      "Precision: 32.33532934131736 %\n",
      "Recall: 27.0 %\n",
      "F-measure: 29.427792915531338 %\n",
      "-------\n",
      " 3 Rating Results:\n",
      "Precision: 40.331491712707184 %\n",
      "Recall: 36.5 %\n",
      "F-measure: 38.320209973753286 %\n",
      "-------\n",
      " 4 Rating Results:\n",
      "Precision: 40.340909090909086 %\n",
      "Recall: 35.5 %\n",
      "F-measure: 37.765957446808514 %\n",
      "-------\n",
      " 5 Rating Results:\n",
      "Precision: 45.76271186440678 %\n",
      "Recall: 54.0 %\n",
      "F-measure: 49.54128440366973 %\n"
     ]
    }
   ],
   "source": [
    "# confusion matrix\n",
    "confusionMatrix = confusion_matrix(test['class_index'], y_pred)\n",
    "print(confusionMatrix)\n",
    "\n",
    "correctReviews = 0\n",
    "for i in range(len(confusionMatrix)):\n",
    "    correctReviews += confusionMatrix[i][i]\n",
    "\n",
    "incorrectReviews = sum(map(sum, confusionMatrix)) - correctReviews\n",
    "# print(\"correctReviews:\", correctReviews)\n",
    "# print(\"incorrectReviews:\", incorrectReviews)\n",
    "\n",
    "accuracy = (correctReviews / (incorrectReviews + correctReviews)) * 100\n",
    "\n",
    "# accuracy, precision, recall, f1\n",
    "# CHECK IF CONFUSION MATRIX IS ORDER FROM 1-5 RATING\n",
    "print(\"Accuracy:\", accuracy)\n",
    "for i in range(5):\n",
    "    colSum = 0\n",
    "    for j in range(5):\n",
    "        colSum += confusionMatrix[j][i]\n",
    "    \n",
    "    precision = (confusionMatrix[i][i] / colSum)\n",
    "    recall = (confusionMatrix[i][i] / sum(confusionMatrix[i]))\n",
    "    fMeasure = (2*precision*recall) / (precision + recall) \n",
    "    print(\"-------\\n\", i+1, \"Rating Results:\")\n",
    "    print(\"Precision:\", precision * 100, \"%\")\n",
    "    print(\"Recall:\", recall * 100, \"%\")\n",
    "    print(\"F-measure:\", fMeasure * 100, \"%\")"
   ]
  },
  {
   "cell_type": "code",
   "execution_count": null,
   "id": "accf4db7-b6ad-4cc1-8199-88f8f31cc7cb",
   "metadata": {},
   "outputs": [],
   "source": []
  }
 ],
 "metadata": {
  "interpreter": {
   "hash": "58873ede596a2747dd7f16e364cae25e7acc47924c64b83e83112f7e389e5939"
  },
  "kernelspec": {
   "display_name": "Python 3 (ipykernel)",
   "language": "python",
   "name": "python3"
  },
  "language_info": {
   "codemirror_mode": {
    "name": "ipython",
    "version": 3
   },
   "file_extension": ".py",
   "mimetype": "text/x-python",
   "name": "python",
   "nbconvert_exporter": "python",
   "pygments_lexer": "ipython3",
   "version": "3.9.7"
  }
 },
 "nbformat": 4,
 "nbformat_minor": 5
}

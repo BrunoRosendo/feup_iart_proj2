{
 "cells": [
  {
   "cell_type": "markdown",
   "id": "c7640a6c",
   "metadata": {},
   "source": [
    "# Natural Language Processing with Amazon Reviews\n",
    "\n",
    "Developed for the second project of the Artificial Intelligence course\n",
    "\n",
    "## Setup and Environment\n",
    "\n",
    "After installing Python and the necessary packages, run the following code to import them:"
   ]
  },
  {
   "cell_type": "code",
   "execution_count": 63,
   "id": "c28d746a",
   "metadata": {},
   "outputs": [],
   "source": [
    "%matplotlib inline\n",
    "\n",
    "import pandas as pd \n",
    "import numpy as np\n",
    "import matplotlib.pyplot as plt\n",
    "import seaborn as sb\n",
    "from sklearn.feature_extraction.text import CountVectorizer\n",
    "from sklearn.feature_extraction.text import TfidfVectorizer\n",
    "from sklearn.naive_bayes import MultinomialNB\n",
    "from sklearn.metrics import *"
   ]
  },
  {
   "cell_type": "markdown",
   "id": "23e738a9",
   "metadata": {},
   "source": [
    "## Implementation work"
   ]
  },
  {
   "cell_type": "markdown",
   "id": "83a47e52",
   "metadata": {},
   "source": [
    "### Generating a data set\n",
    "#### Obtaining features from the Bag-of-Words model"
   ]
  },
  {
   "cell_type": "code",
   "execution_count": 85,
   "id": "f839739c",
   "metadata": {
    "scrolled": true
   },
   "outputs": [],
   "source": [
    "train = pd.read_csv('./data/train_preprocessed.csv')\n",
    "test = pd.read_csv('./data/test_preprocessed.csv')"
   ]
  },
  {
   "cell_type": "markdown",
   "id": "b57253aa",
   "metadata": {},
   "source": [
    "Please choose one of the following vectorizers:\n",
    "#### Creating regular CountVectorizers (default)"
   ]
  },
  {
   "cell_type": "code",
   "execution_count": 86,
   "id": "9c6883c9",
   "metadata": {},
   "outputs": [],
   "source": [
    "titleVectorizer = CountVectorizer()\n",
    "textVectorizer = CountVectorizer()"
   ]
  },
  {
   "cell_type": "markdown",
   "id": "f00ce050",
   "metadata": {},
   "source": [
    "#### Creating 1-hot vectors"
   ]
  },
  {
   "cell_type": "code",
   "execution_count": null,
   "id": "a89c77a8",
   "metadata": {},
   "outputs": [],
   "source": [
    "titleVectorizer = CountVectorizer(binary=True)\n",
    "textVectorizer = CountVectorizer(binary=True)"
   ]
  },
  {
   "cell_type": "markdown",
   "id": "dc81a00a",
   "metadata": {},
   "source": [
    "#### Creating TF-IDF vectors"
   ]
  },
  {
   "cell_type": "code",
   "execution_count": null,
   "id": "c86fb0d4",
   "metadata": {
    "scrolled": true
   },
   "outputs": [],
   "source": [
    "titleVectorizer = TfidfVectorizer()\n",
    "textVectorizer = TfidfVectorizer()"
   ]
  },
  {
   "cell_type": "markdown",
   "id": "8f5c0e16",
   "metadata": {},
   "source": [
    "#### Creating bi-gram CountVectorizors"
   ]
  },
  {
   "cell_type": "code",
   "execution_count": 75,
   "id": "5a49379a",
   "metadata": {},
   "outputs": [],
   "source": [
    "titleVectorizer = CountVectorizer(ngram_range=(1, 2))\n",
    "textVectorizer = CountVectorizer(ngram_range=(1, 2))"
   ]
  },
  {
   "cell_type": "markdown",
   "id": "ff1fe250",
   "metadata": {},
   "source": [
    "#### Creating bi-gram TF-IDF vectors"
   ]
  },
  {
   "cell_type": "code",
   "execution_count": 70,
   "id": "87a4a810",
   "metadata": {},
   "outputs": [],
   "source": [
    "titleVectorizer = TfidfVectorizer(ngram_range=(1, 2))\n",
    "textVectorizer = TfidfVectorizer(ngram_range=(1, 2))"
   ]
  },
  {
   "cell_type": "markdown",
   "id": "cd345607",
   "metadata": {},
   "source": [
    "#### Creating tri-gram TF-IDF vectors"
   ]
  },
  {
   "cell_type": "code",
   "execution_count": 65,
   "id": "3c90931c",
   "metadata": {},
   "outputs": [],
   "source": [
    "titleVectorizer = TfidfVectorizer(ngram_range=(1, 3))\n",
    "textVectorizer = TfidfVectorizer(ngram_range=(1, 3))"
   ]
  },
  {
   "cell_type": "markdown",
   "id": "b0f77787",
   "metadata": {},
   "source": [
    "#### Transforming the dataset"
   ]
  },
  {
   "cell_type": "code",
   "execution_count": 87,
   "id": "4449108b",
   "metadata": {},
   "outputs": [
    {
     "name": "stdout",
     "output_type": "stream",
     "text": [
      "(10000, 6524)\n",
      "(10000, 24318)\n",
      "(10000, 30842)\n"
     ]
    }
   ],
   "source": [
    "trainTitleArr = list(map(str, train['review_title']))\n",
    "trainTextArr = list(map(str, train['review_text']))\n",
    "\n",
    "titleWords = titleVectorizer.fit_transform(trainTitleArr).toarray()\n",
    "textWords = textVectorizer.fit_transform(trainTextArr).toarray()\n",
    "\n",
    "allWords = np.array([np.concatenate((titleWords[i], textWords[i])) for i in range(len(titleWords))])\n",
    "\n",
    "print(titleWords.shape)\n",
    "# print(vectorizer.get_feature_names())\n",
    "print(textWords.shape)\n",
    "\n",
    "print(allWords.shape)"
   ]
  },
  {
   "cell_type": "markdown",
   "id": "d872871e",
   "metadata": {},
   "source": [
    "### Training Classifiers"
   ]
  },
  {
   "cell_type": "code",
   "execution_count": 88,
   "id": "e7025165",
   "metadata": {},
   "outputs": [
    {
     "data": {
      "text/plain": [
       "MultinomialNB()"
      ]
     },
     "execution_count": 88,
     "metadata": {},
     "output_type": "execute_result"
    }
   ],
   "source": [
    "y = train['class_index']\n",
    "\n",
    "clf = MultinomialNB()\n",
    "\n",
    "# Train with allWords\n",
    "clf.fit(allWords, y, sample_weight=1)"
   ]
  },
  {
   "cell_type": "markdown",
   "id": "59ea43d9",
   "metadata": {},
   "source": [
    "### Prediction"
   ]
  },
  {
   "cell_type": "code",
   "execution_count": 83,
   "id": "c8dc25e8",
   "metadata": {},
   "outputs": [
    {
     "name": "stdout",
     "output_type": "stream",
     "text": [
      "[1 3 5 ... 2 2 4]\n"
     ]
    }
   ],
   "source": [
    "testTitleArr = list(map(str, test['review_title']))\n",
    "testTextArr = list(map(str, test['review_text']))\n",
    "\n",
    "testTitleVector = titleVectorizer.transform(testTitleArr).toarray()\n",
    "testTextVector = textVectorizer.transform(testTitleArr).toarray()\n",
    "\n",
    "testAllWords = np.array([np.concatenate((testTitleVector[i], testTextVector[i])) for i in range(len(testTitleVector))])\n",
    "\n",
    "y_pred = clf.predict(testAllWords)\n",
    "print(y_pred)"
   ]
  },
  {
   "cell_type": "markdown",
   "id": "20db34f2",
   "metadata": {},
   "source": [
    "### Analyse Results"
   ]
  },
  {
   "cell_type": "code",
   "execution_count": 84,
   "id": "0fa05366",
   "metadata": {},
   "outputs": [
    {
     "name": "stdout",
     "output_type": "stream",
     "text": [
      "[[200  74  46  29  51]\n",
      " [101 131 102  38  28]\n",
      " [ 47  76 166  62  49]\n",
      " [ 43  45  78 111 123]\n",
      " [ 42  27  26  84 221]]\n",
      "Accuracy: 41.449999999999996\n",
      "-------\n",
      " 1 Rating Results:\n",
      "Precision: 46.18937644341801 %\n",
      "Recall: 50.0 %\n",
      "F-measure: 48.019207683073226 %\n",
      "-------\n",
      " 2 Rating Results:\n",
      "Precision: 37.110481586402265 %\n",
      "Recall: 32.75 %\n",
      "F-measure: 34.79415670650731 %\n",
      "-------\n",
      " 3 Rating Results:\n",
      "Precision: 39.71291866028708 %\n",
      "Recall: 41.5 %\n",
      "F-measure: 40.58679706601467 %\n",
      "-------\n",
      " 4 Rating Results:\n",
      "Precision: 34.25925925925926 %\n",
      "Recall: 27.750000000000004 %\n",
      "F-measure: 30.662983425414364 %\n",
      "-------\n",
      " 5 Rating Results:\n",
      "Precision: 46.82203389830508 %\n",
      "Recall: 55.25 %\n",
      "F-measure: 50.688073394495405 %\n"
     ]
    }
   ],
   "source": [
    "# confusion matrix\n",
    "confusionMatrix = confusion_matrix(test['class_index'], y_pred)\n",
    "print(confusionMatrix)\n",
    "\n",
    "correctReviews = 0\n",
    "for i in range(len(confusionMatrix)):\n",
    "    correctReviews += confusionMatrix[i][i]\n",
    "\n",
    "incorrectReviews = sum(map(sum, confusionMatrix)) - correctReviews\n",
    "# print(\"correctReviews:\", correctReviews)\n",
    "# print(\"incorrectReviews:\", incorrectReviews)\n",
    "\n",
    "accuracy = (correctReviews / (incorrectReviews + correctReviews)) * 100\n",
    "\n",
    "# accuracy, precision, recall, f1\n",
    "# CHECK IF CONFUSION MATRIX IS ORDER FROM 1-5 RATING\n",
    "print(\"Accuracy:\", accuracy)\n",
    "for i in range(5):\n",
    "    colSum = 0\n",
    "    for j in range(5):\n",
    "        colSum += confusionMatrix[j][i]\n",
    "    \n",
    "    precision = (confusionMatrix[i][i] / colSum)\n",
    "    recall = (confusionMatrix[i][i] / sum(confusionMatrix[i]))\n",
    "    fMeasure = (2*precision*recall) / (precision + recall) \n",
    "    print(\"-------\\n\", i+1, \"Rating Results:\")\n",
    "    print(\"Precision:\", precision * 100, \"%\")\n",
    "    print(\"Recall:\", recall * 100, \"%\")\n",
    "    print(\"F-measure:\", fMeasure * 100, \"%\")"
   ]
  }
 ],
 "metadata": {
  "interpreter": {
   "hash": "58873ede596a2747dd7f16e364cae25e7acc47924c64b83e83112f7e389e5939"
  },
  "kernelspec": {
   "display_name": "Python 3 (ipykernel)",
   "language": "python",
   "name": "python3"
  },
  "language_info": {
   "codemirror_mode": {
    "name": "ipython",
    "version": 3
   },
   "file_extension": ".py",
   "mimetype": "text/x-python",
   "name": "python",
   "nbconvert_exporter": "python",
   "pygments_lexer": "ipython3",
   "version": "3.9.7"
  }
 },
 "nbformat": 4,
 "nbformat_minor": 5
}

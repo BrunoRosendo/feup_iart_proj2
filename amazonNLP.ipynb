{
 "cells": [
  {
   "cell_type": "markdown",
   "id": "c7640a6c",
   "metadata": {},
   "source": [
    "# Natural Language Processing with Amazon Reviews\n",
    "\n",
    "Developed for the second project of the Artificial Intelligence course\n",
    "\n",
    "## Setup and Environment\n",
    "\n",
    "After installing Python and the necessary packages, run the following code to import them:"
   ]
  },
  {
   "cell_type": "code",
   "execution_count": 118,
   "id": "c28d746a",
   "metadata": {},
   "outputs": [],
   "source": [
    "%matplotlib inline\n",
    "\n",
    "import pandas as pd \n",
    "import numpy as np\n",
    "import matplotlib.pyplot as plt\n",
    "import seaborn as sb\n",
    "import time\n",
    "from sklearn.feature_extraction.text import CountVectorizer, TfidfVectorizer\n",
    "from sklearn.naive_bayes import MultinomialNB\n",
    "from sklearn.svm import LinearSVC\n",
    "from sklearn.linear_model import LogisticRegression, Perceptron\n",
    "from sklearn.tree import DecisionTreeClassifier\n",
    "from sklearn.ensemble import RandomForestClassifier\n",
    "from sklearn.metrics import *\n",
    "from sklearn.neighbors import KNeighborsClassifier\n",
    "from sklearn.neural_network import MLPClassifier\n",
    "\n",
    "from sklearn.model_selection import PredefinedSplit\n",
    "from sklearn.model_selection import cross_val_score\n",
    "from sklearn.model_selection import GridSearchCV\n",
    "from sklearn.model_selection import train_test_split\n",
    "\n",
    "from sklearn.experimental import enable_halving_search_cv\n",
    "from sklearn.model_selection import HalvingGridSearchCV\n",
    "\n",
    "MAX_FEATURES = 8000"
   ]
  },
  {
   "cell_type": "markdown",
   "id": "23e738a9",
   "metadata": {},
   "source": [
    "## Implementation work"
   ]
  },
  {
   "cell_type": "markdown",
   "id": "83a47e52",
   "metadata": {},
   "source": [
    "### Generating a data set\n",
    "#### Obtaining features from the Bag-of-Words model"
   ]
  },
  {
   "cell_type": "code",
   "execution_count": 45,
   "id": "f839739c",
   "metadata": {
    "scrolled": true
   },
   "outputs": [],
   "source": [
    "train = pd.read_csv('./data/train_preprocessed50k.csv')\n",
    "test = pd.read_csv('./data/test_preprocessed50k.csv')"
   ]
  },
  {
   "cell_type": "markdown",
   "id": "b57253aa",
   "metadata": {},
   "source": [
    "Please choose one of the following vectorizers:\n",
    "#### Creating regular CountVectorizers (default)"
   ]
  },
  {
   "cell_type": "code",
   "execution_count": 43,
   "id": "9c6883c9",
   "metadata": {},
   "outputs": [],
   "source": [
    "titleVectorizer = CountVectorizer(max_features=MAX_FEATURES)\n",
    "textVectorizer = CountVectorizer(max_features=MAX_FEATURES)"
   ]
  },
  {
   "cell_type": "markdown",
   "id": "f00ce050",
   "metadata": {},
   "source": [
    "#### Creating 1-hot vectors"
   ]
  },
  {
   "cell_type": "code",
   "execution_count": 14,
   "id": "a89c77a8",
   "metadata": {},
   "outputs": [],
   "source": [
    "titleVectorizer = CountVectorizer(binary=True, max_features=MAX_FEATURES)\n",
    "textVectorizer = CountVectorizer(binary=True, max_features=MAX_FEATURES)"
   ]
  },
  {
   "cell_type": "markdown",
   "id": "dc81a00a",
   "metadata": {},
   "source": [
    "#### Creating TF-IDF vectors"
   ]
  },
  {
   "cell_type": "code",
   "execution_count": null,
   "id": "c86fb0d4",
   "metadata": {
    "scrolled": true
   },
   "outputs": [],
   "source": [
    "titleVectorizer = TfidfVectorizer(max_features=MAX_FEATURES)\n",
    "textVectorizer = TfidfVectorizer(max_features=MAX_FEATURES)"
   ]
  },
  {
   "cell_type": "markdown",
   "id": "8f5c0e16",
   "metadata": {},
   "source": [
    "#### Creating bi-gram CountVectorizors"
   ]
  },
  {
   "cell_type": "code",
   "execution_count": 21,
   "id": "5a49379a",
   "metadata": {},
   "outputs": [],
   "source": [
    "titleVectorizer = CountVectorizer(ngram_range=(1, 2), max_features=MAX_FEATURES)\n",
    "textVectorizer = CountVectorizer(ngram_range=(1, 2), max_features=MAX_FEATURES)"
   ]
  },
  {
   "cell_type": "markdown",
   "id": "ff1fe250",
   "metadata": {},
   "source": [
    "#### Creating bi-gram TF-IDF vectors"
   ]
  },
  {
   "cell_type": "code",
   "execution_count": 46,
   "id": "87a4a810",
   "metadata": {},
   "outputs": [],
   "source": [
    "titleVectorizer = TfidfVectorizer(ngram_range=(1, 2), max_features=MAX_FEATURES)\n",
    "textVectorizer = TfidfVectorizer(ngram_range=(1, 2), max_features=MAX_FEATURES)"
   ]
  },
  {
   "cell_type": "markdown",
   "id": "c42ca485",
   "metadata": {},
   "source": [
    "#### Creating tri-gram CountVectorizors"
   ]
  },
  {
   "cell_type": "code",
   "execution_count": 27,
   "id": "0ce17fd6",
   "metadata": {},
   "outputs": [],
   "source": [
    "titleVectorizer = CountVectorizer(ngram_range=(1, 3), max_features=MAX_FEATURES)\n",
    "textVectorizer = CountVectorizer(ngram_range=(1, 3), max_features=MAX_FEATURES)"
   ]
  },
  {
   "cell_type": "markdown",
   "id": "cd345607",
   "metadata": {},
   "source": [
    "#### Creating tri-gram TF-IDF vectors"
   ]
  },
  {
   "cell_type": "code",
   "execution_count": null,
   "id": "3c90931c",
   "metadata": {},
   "outputs": [],
   "source": [
    "titleVectorizer = TfidfVectorizer(ngram_range=(1, 3), max_features=MAX_FEATURES)\n",
    "textVectorizer = TfidfVectorizer(ngram_range=(1, 3), max_features=MAX_FEATURES)"
   ]
  },
  {
   "cell_type": "markdown",
   "id": "b0f77787",
   "metadata": {},
   "source": [
    "#### Transforming the dataset"
   ]
  },
  {
   "cell_type": "code",
   "execution_count": 47,
   "id": "4449108b",
   "metadata": {},
   "outputs": [
    {
     "name": "stdout",
     "output_type": "stream",
     "text": [
      "(50000, 8000)\n",
      "(50000, 8000)\n",
      "(50000, 16000)\n"
     ]
    }
   ],
   "source": [
    "trainTitleArr = list(map(str, train['review_title']))\n",
    "trainTextArr = list(map(str, train['review_text']))\n",
    "\n",
    "titleWords = titleVectorizer.fit_transform(trainTitleArr).toarray()\n",
    "textWords = textVectorizer.fit_transform(trainTextArr).toarray()\n",
    "\n",
    "allWords = np.array([np.concatenate((titleWords[i], textWords[i])) for i in range(len(titleWords))])\n",
    "\n",
    "print(titleWords.shape)\n",
    "print(textWords.shape)\n",
    "print(allWords.shape)\n",
    "\n",
    "y = train['class_index']\n",
    "\n",
    "# Test variables\n",
    "testTitleArr = list(map(str, test['review_title']))\n",
    "testTextArr = list(map(str, test['review_text']))\n",
    "\n",
    "testTitleVector = titleVectorizer.transform(testTitleArr).toarray()\n",
    "testTextVector = textVectorizer.transform(testTextArr).toarray()\n",
    "\n",
    "testAllWords = np.array([np.concatenate((testTitleVector[i], testTextVector[i])) for i in range(len(testTitleVector))])"
   ]
  },
  {
   "cell_type": "markdown",
   "id": "d872871e",
   "metadata": {},
   "source": [
    "### Training Classifiers and Prediction"
   ]
  },
  {
   "cell_type": "code",
   "execution_count": 48,
   "id": "e7025165",
   "metadata": {},
   "outputs": [],
   "source": [
    "def predict(clf, **arg):\n",
    "    # Train with allWords\n",
    "    clf.fit(allWords, y, **arg)\n",
    "\n",
    "    return clf.predict(testAllWords)"
   ]
  },
  {
   "cell_type": "markdown",
   "id": "65b2efd3",
   "metadata": {},
   "source": [
    "### Splitting in 3 datasets: Train, Parameter Fine-Tuning and Test."
   ]
  },
  {
   "cell_type": "code",
   "execution_count": 49,
   "id": "9f8ffcf0",
   "metadata": {},
   "outputs": [],
   "source": [
    "def fullPredict(clf, param_grid, **arg):\n",
    "    # Splitting test dataset into test and parameter fine tuning\n",
    "    X_train, X_paramTuning, y_train, y_paramTuning= train_test_split(allWords, y, test_size=0.3, random_state=0)\n",
    "    \n",
    "    # Train with allWords\n",
    "    clf.fit(X_train, y_train, **arg)\n",
    "\n",
    "    grid = HalvingGridSearchCV(clf, param_grid) # If we want Cross Validation: cv=pdfsplt\n",
    "\n",
    "    grid.fit(X_paramTuning, y_paramTuning, **arg)\n",
    "\n",
    "    print(\"Best grid params:\", grid.best_params_)\n",
    "\n",
    "    return grid.predict(testAllWords)\n",
    "\n",
    "# MultinomialNB()"
   ]
  },
  {
   "cell_type": "markdown",
   "id": "a9ede350",
   "metadata": {},
   "source": [
    "### Plot Results"
   ]
  },
  {
   "cell_type": "code",
   "execution_count": 107,
   "id": "3834f945",
   "metadata": {},
   "outputs": [],
   "source": [
    "def prepare_statistic(data):\n",
    "    x = ['Accuracy', 'Precision', 'Recall', 'F1']\n",
    "    title = data.iloc[0]\n",
    "    y = data.iloc[1:].tolist()\n",
    "    return x, y, title\n",
    "\n",
    "def plot_all_metrics(data, figLabel):\n",
    "    fig, axs = plt.subplots(2, 3, sharex=True, sharey=True)\n",
    "    fig.set_figwidth(20)\n",
    "    fig.set_figheight(7)\n",
    "    fig.suptitle(figLabel)\n",
    "    for i in range(2):\n",
    "        for j in range(3):\n",
    "            index = i*3 + j\n",
    "            currData = data[index]\n",
    "            x, y, title = prepare_statistic(currData)\n",
    "            axis = axs[i, j]\n",
    "            # axis.set_ylim(bottom=0.0, top=1.0)    # Uncomment this to see yAxis from [0, 1]\n",
    "            axis.bar(x, y)\n",
    "            axis.set_title(title)\n",
    "            axis.grid(True)\n",
    "    plt.show()\n",
    "\n",
    "def plot_bar(x, y, title, y_label, x_label):\n",
    "    fig = plt.figure()\n",
    "    ax = fig.add_axes([0,0,3,1.5])\n",
    "    ax.bar(x, y)\n",
    "    ax.set_title(title)\n",
    "    ax.set_ylabel(y_label)\n",
    "    ax.set_xlabel(x_label)\n",
    "    plt.show()"
   ]
  },
  {
   "cell_type": "markdown",
   "id": "20db34f2",
   "metadata": {},
   "source": [
    "### Analyze Results"
   ]
  },
  {
   "cell_type": "code",
   "execution_count": 114,
   "id": "0fa05366",
   "metadata": {},
   "outputs": [],
   "source": [
    "def analyze(prediction, test, classifierLabel):\n",
    "    y_test = test['class_index']\n",
    "\n",
    "    # confusion matrix\n",
    "    confusionMatrix = confusion_matrix(y_test, prediction)\n",
    "    print(\"Confusion Matrix:\")\n",
    "    print(confusionMatrix)\n",
    "\n",
    "    plot_data = []\n",
    "\n",
    "    # Accuracy is a metric that takes into account all the classes\n",
    "    accuracy = accuracy_score(y_test, prediction)\n",
    "    precision = precision_score(y_test, prediction, average='weighted')\n",
    "    recall = recall_score(y_test, prediction, average='weighted')\n",
    "    f1 = f1_score(y_test, prediction, average='weighted')\n",
    "\n",
    "    print(\"Accuracy: \", accuracy * 100, \" %\")\n",
    "    print(\"Precision: \", precision * 100, \" %\")\n",
    "    print('Recall: ', recall * 100, \" %\")\n",
    "    print('F1: ', f1 * 100, \" %\")\n",
    "\n",
    "    plot_data.append(pd.Series(['All Ratings', accuracy, precision, recall, f1]))\n",
    "    \n",
    "    # Calculate metrics for individual classes\n",
    "    for class_index in range(1, 6, 1):\n",
    "        precision = precision_score(y_test, prediction, average='weighted', labels=[class_index])\n",
    "        recall = recall_score(y_test, prediction, average='weighted', labels=[class_index])\n",
    "        f1 = f1_score(y_test, prediction, average='weighted', labels=[class_index])\n",
    "        plot_data.append(pd.Series([str(class_index)+' Star Rating', accuracy, precision, recall, f1]))\n",
    "\n",
    "\n",
    "    # Plot the data\n",
    "    plot_all_metrics(plot_data, classifierLabel)\n",
    "\n",
    "    return accuracy\n"
   ]
  },
  {
   "cell_type": "markdown",
   "id": "19b98685",
   "metadata": {},
   "source": [
    "### K-Nearest Neighbor"
   ]
  },
  {
   "cell_type": "code",
   "execution_count": 115,
   "id": "72624c21",
   "metadata": {},
   "outputs": [
    {
     "name": "stdout",
     "output_type": "stream",
     "text": [
      "K-Nearest Neighbor Results:\n",
      "Confusion Matrix:\n",
      "[[1024  400  180  102  294]\n",
      " [ 645  526  335  147  347]\n",
      " [ 325  409  558  301  407]\n",
      " [ 219  176  358  492  755]\n",
      " [ 156  117  175  379 1173]]\n",
      "Accuracy:  37.730000000000004  %\n",
      "Precision:  36.86362125178842  %\n",
      "Recall:  37.730000000000004  %\n",
      "F1:  36.54612972997667  %\n"
     ]
    },
    {
     "data": {
      "image/png": "[encoded data removed]",
      "text/plain": [
       "<Figure size 1440x504 with 6 Axes>"
      ]
     },
     "metadata": {
      "needs_background": "light"
     },
     "output_type": "display_data"
    }
   ],
   "source": [
    "begin = time.time()\n",
    "prediction = predict(KNeighborsClassifier(n_neighbors=5))\n",
    "end = time.time()\n",
    "# prediction = fullPredict(KNeighborsClassifier(), {\"n_neighbors\": [5, 15, 30, 40], \"leaf_size\": [10, 20, 30, 35]})\n",
    "print(\"K-Nearest Neighbor Results:\")\n",
    "accuracy = analyze(prediction, test, \"K-Nearest Neighbor\")\n",
    "knn_metrics = (accuracy, end - begin)"
   ]
  },
  {
   "cell_type": "markdown",
   "id": "b7eaad8f-0f60-42af-9747-d1669b2c1cf2",
   "metadata": {},
   "source": [
    "### Multinomial Naive Bayes"
   ]
  },
  {
   "cell_type": "code",
   "execution_count": 117,
   "id": "84fb6fec-daf4-4abf-861b-537f454143c3",
   "metadata": {},
   "outputs": [
    {
     "name": "stdout",
     "output_type": "stream",
     "text": [
      "MultinomialNB Results:\n",
      "Confusion Matrix:\n",
      "[[1307  431  126   64   72]\n",
      " [ 519  829  457  123   72]\n",
      " [ 211  381  841  427  140]\n",
      " [  83   90  368  893  566]\n",
      " [  72   54   72  410 1392]]\n",
      "Accuracy:  52.62  %\n",
      "Precision:  51.97142801131355  %\n",
      "Recall:  52.62  %\n",
      "F1:  52.1833843820949  %\n"
     ]
    },
    {
     "data": {
      "image/png": "[encoded data removed]",
      "text/plain": [
       "<Figure size 1440x504 with 6 Axes>"
      ]
     },
     "metadata": {
      "needs_background": "light"
     },
     "output_type": "display_data"
    }
   ],
   "source": [
    "begin = time.time()\n",
    "prediction = predict(MultinomialNB(), sample_weight=1.0)\n",
    "end = time.time()\n",
    "# prediction = gridPredict(MultinomialNB(), {\"alpha\": [0.0001, 0.5, 1.0]}, sample_weight=1.0)\n",
    "# prediction = fullPredict(MultinomialNB(), {\"alpha\": [0.0001, 0.5, 1.0]}, sample_weight=1.0)\n",
    "print(\"MultinomialNB Results:\")\n",
    "accuracy = analyze(prediction, test, 'Multinomial Naive Bayes')\n",
    "nb_metrics = (accuracy, end - begin)"
   ]
  },
  {
   "cell_type": "markdown",
   "id": "2153922a-923c-4d3e-b54d-663d2940311e",
   "metadata": {},
   "source": [
    "### Random Forest"
   ]
  },
  {
   "cell_type": "code",
   "execution_count": 95,
   "id": "70143506-709a-44e8-8024-4e74a3760a57",
   "metadata": {},
   "outputs": [
    {
     "name": "stdout",
     "output_type": "stream",
     "text": [
      "RandomForestClassifier Results:\n",
      "Confusion Matrix:\n",
      "[[1326  348  127   68  131]\n",
      " [ 663  640  451  112  134]\n",
      " [ 298  386  800  298  218]\n",
      " [ 115  155  441  641  648]\n",
      " [ 103   82  125  296 1394]]\n",
      "Accuracy:  48.010000000000005  %\n",
      "Precision:  46.864309395137354  %\n",
      "Recall:  48.010000000000005  %\n",
      "F1:  46.80732871781227  %\n"
     ]
    },
    {
     "data": {
      "image/png": "[encoded data removed]",
      "text/plain": [
       "<Figure size 1440x504 with 6 Axes>"
      ]
     },
     "metadata": {
      "needs_background": "light"
     },
     "output_type": "display_data"
    }
   ],
   "source": [
    "begin = time.time()\n",
    "prediction = predict(RandomForestClassifier(n_estimators=100), sample_weight=1.0) \n",
    "#prediction = fullPredict(RandomForestClassifier(), {\"n_estimators\": [50, 100]} , sample_weight=1.0)\n",
    "end = time.time()\n",
    "\n",
    "print(\"RandomForestClassifier Results:\")\n",
    "accuracy = analyze(prediction, test, 'Random Forest')\n",
    "rforest_metrics = (accuracy, end - begin)"
   ]
  },
  {
   "cell_type": "markdown",
   "id": "25173d2c-fb89-4769-8c29-7d7051e24a76",
   "metadata": {},
   "source": [
    "### Decision Tree"
   ]
  },
  {
   "cell_type": "code",
   "execution_count": null,
   "id": "72b2289b-c402-4699-bfd6-13a85b28543d",
   "metadata": {},
   "outputs": [
    {
     "name": "stderr",
     "output_type": "stream",
     "text": [
      "/home/bruno/anaconda3/lib/python3.9/site-packages/sklearn/model_selection/_validation.py:372: FitFailedWarning: \n",
      "4 fits failed out of a total of 12.\n",
      "The score on these train-test partitions for these parameters will be set to nan.\n",
      "If these failures are not expected, you can try to debug them by setting error_score='raise'.\n",
      "\n",
      "Below are more details about the failures:\n",
      "--------------------------------------------------------------------------------\n",
      "4 fits failed with the following error:\n",
      "Traceback (most recent call last):\n",
      "  File \"/home/bruno/anaconda3/lib/python3.9/site-packages/sklearn/model_selection/_validation.py\", line 680, in _fit_and_score\n",
      "    estimator.fit(X_train, y_train, **fit_params)\n",
      "  File \"/home/bruno/anaconda3/lib/python3.9/site-packages/sklearn/tree/_classes.py\", line 937, in fit\n",
      "    super().fit(\n",
      "  File \"/home/bruno/anaconda3/lib/python3.9/site-packages/sklearn/tree/_classes.py\", line 352, in fit\n",
      "    criterion = CRITERIA_CLF[self.criterion](\n",
      "KeyError: 'log_loss'\n",
      "\n",
      "  warnings.warn(some_fits_failed_message, FitFailedWarning)\n",
      "/home/bruno/anaconda3/lib/python3.9/site-packages/sklearn/model_selection/_search.py:969: UserWarning: One or more of the test scores are non-finite: [0.3188 0.3178 0.2862 0.298     nan    nan]\n",
      "  warnings.warn(\n"
     ]
    },
    {
     "name": "stdout",
     "output_type": "stream",
     "text": [
      "Best grid params: {'criterion': 'gini', 'splitter': 'best'}\n",
      "DecisionTreeClassifier Results:\n",
      "Confusion Matrix:\n",
      "[[83 53 22 23 19]\n",
      " [55 43 47 33 22]\n",
      " [34 41 54 46 25]\n",
      " [17 23 49 58 53]\n",
      " [13 24 18 48 97]]\n",
      "Accuracy:  33.5  %\n",
      "Precision:  33.13434991037683  %\n",
      "Recall:  33.5  %\n",
      "F1:  33.289532259516896  %\n"
     ]
    }
   ],
   "source": [
    "begin = time.time()\n",
    "prediction = predict(DecisionTreeClassifier(), sample_weight=1.0)\n",
    "# prediction = fullPredict(DecisionTreeClassifier(), {\"criterion\": [\"gini\", \"entropy\", \"log_loss\"], \"splitter\": [\"best\", \"random\"]} , sample_weight=1.0)\n",
    "end = time.time()\n",
    "\n",
    "print(\"DecisionTreeClassifier Results:\")\n",
    "accuracy = analyze(prediction, test, 'Decision Tree')\n",
    "dtree_metrics = (accuracy, end - begin)"
   ]
  },
  {
   "cell_type": "markdown",
   "id": "c3dae7ab-a235-4ddb-932d-43885ae6eb33",
   "metadata": {},
   "source": [
    "### Perceptron"
   ]
  },
  {
   "cell_type": "code",
   "execution_count": 23,
   "id": "8423c33b-12a9-4e43-9c6c-55ffef0b0397",
   "metadata": {},
   "outputs": [
    {
     "name": "stdout",
     "output_type": "stream",
     "text": [
      "Best grid params: {'alpha': 0.0001}\n",
      "Perceptron Results:\n",
      "Confusion Matrix:\n",
      "[[109  45  27   9  10]\n",
      " [ 51  80  30  30   9]\n",
      " [ 27  49  53  49  22]\n",
      " [ 21  16  27  83  53]\n",
      " [ 13  14  17  48 108]]\n",
      "Accuracy:  43.3  %\n",
      "Precision:  42.86348551441378  %\n",
      "Recall:  43.3  %\n",
      "F1:  42.935683522677394  %\n"
     ]
    }
   ],
   "source": [
    "begin = time.time()\n",
    "prediction = predict(Perceptron(), sample_weight=1.0)\n",
    "# prediction = fullPredict(Perceptron(), {\"alpha\": [0.0001, 0.001]} , sample_weight=1.0)\n",
    "end = time.time()\n",
    "\n",
    "print(\"Perceptron Results:\")\n",
    "accuracy = analyze(prediction, test, 'Perceptron')\n",
    "perceptron_metrics = (accuracy, end - begin)"
   ]
  },
  {
   "cell_type": "markdown",
   "id": "8a5bc0ee-4846-47fc-ad85-d9ce622c250f",
   "metadata": {},
   "source": [
    "### Logistic Regression"
   ]
  },
  {
   "cell_type": "code",
   "execution_count": 10,
   "id": "f2802cfd-e474-4094-8ec0-cf71b38781a7",
   "metadata": {},
   "outputs": [
    {
     "name": "stdout",
     "output_type": "stream",
     "text": [
      "LogisticRegression Results:\n",
      "Confusion Matrix:\n",
      "[[121  41  22   7   9]\n",
      " [ 52  76  37  27   8]\n",
      " [ 28  48  60  43  21]\n",
      " [ 15  10  39  85  51]\n",
      " [  6  15  16  43 120]]\n",
      "Accuracy:  46.2  %\n",
      "Precision:  45.57338914038485  %\n",
      "Recall:  46.2  %\n",
      "F1:  45.8121814558217  %\n"
     ]
    },
    {
     "name": "stderr",
     "output_type": "stream",
     "text": [
      "/home/bruno/anaconda3/lib/python3.9/site-packages/sklearn/linear_model/_logistic.py:814: ConvergenceWarning: lbfgs failed to converge (status=1):\n",
      "STOP: TOTAL NO. of ITERATIONS REACHED LIMIT.\n",
      "\n",
      "Increase the number of iterations (max_iter) or scale the data as shown in:\n",
      "    https://scikit-learn.org/stable/modules/preprocessing.html\n",
      "Please also refer to the documentation for alternative solver options:\n",
      "    https://scikit-learn.org/stable/modules/linear_model.html#logistic-regression\n",
      "  n_iter_i = _check_optimize_result(\n"
     ]
    }
   ],
   "source": [
    "begin = time.time()\n",
    "prediction = predict(LogisticRegression(), sample_weight=1.0)\n",
    "# Best grid params: {'class_weight': 'balanced', 'solver': 'saga'} este foi o resultado do grid search\n",
    "#prediction = fullPredict(LogisticRegression(), {#\"penalty\": [\"l1\", \"l2\", \"elastic\", \"none\"],\n",
    "#    \"class_weight\": [\"balanced\", None], \"solver\": [\"newton-cg\", \"lbfgs\", \"sag\", \"saga\"]\n",
    "#}, sample_weight=1.0)\n",
    "end = time.time()\n",
    "\n",
    "print(\"LogisticRegression Results:\")\n",
    "accuracy = analyze(prediction, test, 'Logistic Regression')\n",
    "logregression_metrics = (accuracy, end - begin)"
   ]
  },
  {
   "cell_type": "markdown",
   "id": "49b8f22b-96f3-4977-869d-574fdfe5289d",
   "metadata": {},
   "source": [
    "### Linear SVC"
   ]
  },
  {
   "cell_type": "code",
   "execution_count": null,
   "id": "e3947cd4-d0a6-43a6-8c5e-1f8f74704ba8",
   "metadata": {},
   "outputs": [],
   "source": [
    "begin = time.time()\n",
    "prediction = predict(LinearSVC(), sample_weight=1.0)\n",
    "# Best grid params: {'C': 0.2, 'class_weight': 'balanced', 'dual': True, 'loss': 'squared_hinge', 'multi_class': 'ovr'}\n",
    "#prediction = fullPredict(LinearSVC(), {\n",
    "#    \"class_weight\": [\"balanced\", None], \"loss\": [\"hinge\", \"squared_hinge\"], \"multi_class\": [\"ovr\", \"crammer_singer\"], \"C\": [0.2, 0.5, 1.0, 2.0], \"dual\": [True, False]\n",
    "#}, sample_weight=1.0)\n",
    "end = time.time()\n",
    "\n",
    "print(\"LinearSVC Results:\")\n",
    "accuracy = analyze(prediction, test, 'Linear SVC')\n",
    "linearSVC_metrics = (accuracy, end - begin)"
   ]
  },
  {
   "cell_type": "markdown",
   "id": "415ecb19",
   "metadata": {},
   "source": [
    "### Neural Network (Multi-Layer Perceptron)"
   ]
  },
  {
   "cell_type": "code",
   "execution_count": null,
   "id": "66c77fe8-4486-42e7-a500-0594c36d7106",
   "metadata": {},
   "outputs": [],
   "source": [
    "begin = time.time()\n",
    "prediction = predict(MLPClassifier())\n",
    "end = time.time()\n",
    "\n",
    "print(\"NeuralNetwork Results:\")\n",
    "accuracy = analyze(prediction, test, 'Neural Network (Multi-Layer Perceptron)')\n",
    "neuralnet_metrics = (accuracy, end - begin)"
   ]
  },
  {
   "cell_type": "markdown",
   "id": "cc8ae583",
   "metadata": {},
   "source": [
    "### Comparing Classifiers"
   ]
  },
  {
   "cell_type": "code",
   "execution_count": 119,
   "id": "031f2a3d",
   "metadata": {},
   "outputs": [
    {
     "data": {
      "image/png": "[encoded data removed]",
      "text/plain": [
       "<Figure size 432x288 with 1 Axes>"
      ]
     },
     "metadata": {
      "needs_background": "light"
     },
     "output_type": "display_data"
    }
   ],
   "source": [
    "models=['K-NN', 'Naive Bayes', 'Random Forest', 'Decision Tree', 'Perceptron', 'Logistic Regression', 'Linear SVC', 'Neural Network']\n",
    "accuracies=[knn_metrics[0], nb_metrics[0], rforest_metrics[0], dtree_metrics[0], perceptron_metrics[0], logregression_metrics[0], linearSVC_metrics[0], neuralnet_metrics[0]]\n",
    "execTimes=[knn_metrics[1], nb_metrics[1], rforest_metrics[1], dtree_metrics[1], perceptron_metrics[1], logregression_metrics[1], linearSVC_metrics[1], neuralnet_metrics[1]]\n",
    "\n",
    "plot_bar(models, accuracies, 'ML Models Accuracy', 'Accuracy', '')\n",
    "\n",
    "plot_bar(models, execTimes, 'ML Models Time', 'Time (s)', '')"
   ]
  }
 ],
 "metadata": {
  "interpreter": {
   "hash": "141daa10505db807b372138034ec5408490e8f64ccf92a35eda8bf94ce848d30"
  },
  "kernelspec": {
   "display_name": "Python 3 (ipykernel)",
   "language": "python",
   "name": "python3"
  },
  "language_info": {
   "codemirror_mode": {
    "name": "ipython",
    "version": 3
   },
   "file_extension": ".py",
   "mimetype": "text/x-python",
   "name": "python",
   "nbconvert_exporter": "python",
   "pygments_lexer": "ipython3",
   "version": "3.9.7"
  }
 },
 "nbformat": 4,
 "nbformat_minor": 5
}

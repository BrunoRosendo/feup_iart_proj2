{
 "cells": [
  {
   "cell_type": "markdown",
   "id": "4cdac4c7",
   "metadata": {},
   "source": [
    "# Natural Language Processing with Amazon Reviews\n",
    "\n",
    "Developed for the second project of the Artificial Intelligence course\n",
    "\n",
    "## Setup and Environment\n",
    "\n",
    "After installing Python and the necessary packages, run the following code to import them:"
   ]
  },
  {
   "cell_type": "code",
   "execution_count": 47,
   "id": "c28d746a",
   "metadata": {},
   "outputs": [
    {
     "name": "stderr",
     "output_type": "stream",
     "text": [
      "[nltk_data] Downloading package stopwords to /home/joao/nltk_data...\n",
      "[nltk_data]   Package stopwords is already up-to-date!\n"
     ]
    },
    {
     "data": {
      "text/plain": [
       "True"
      ]
     },
     "execution_count": 47,
     "metadata": {},
     "output_type": "execute_result"
    }
   ],
   "source": [
    "%matplotlib inline\n",
    "\n",
    "import pandas as pd \n",
    "import numpy as np\n",
    "import matplotlib.pyplot as plt\n",
    "import re\n",
    "import seaborn as sb\n",
    "from nltk.corpus import stopwords\n",
    "from nltk.stem.porter import PorterStemmer\n",
    "from sklearn.feature_extraction.text import CountVectorizer\n",
    "from wordcloud import WordCloud\n",
    "from sklearn.naive_bayes import MultinomialNB\n",
    "from sklearn.metrics import *\n",
    "\n",
    "import nltk\n",
    "nltk.download('stopwords')"
   ]
  },
  {
   "cell_type": "markdown",
   "id": "23e738a9",
   "metadata": {},
   "source": [
    "## Implementation work\n",
    "\n",
    "### Loading the data"
   ]
  },
  {
   "cell_type": "code",
   "execution_count": 3,
   "id": "88845535",
   "metadata": {},
   "outputs": [
    {
     "data": {
      "text/html": [
       "<div>\n",
       "<style scoped>\n",
       "    .dataframe tbody tr th:only-of-type {\n",
       "        vertical-align: middle;\n",
       "    }\n",
       "\n",
       "    .dataframe tbody tr th {\n",
       "        vertical-align: top;\n",
       "    }\n",
       "\n",
       "    .dataframe thead th {\n",
       "        text-align: right;\n",
       "    }\n",
       "</style>\n",
       "<table border=\"1\" class=\"dataframe\">\n",
       "  <thead>\n",
       "    <tr style=\"text-align: right;\">\n",
       "      <th></th>\n",
       "      <th>class_index</th>\n",
       "      <th>review_title</th>\n",
       "      <th>review_text</th>\n",
       "    </tr>\n",
       "  </thead>\n",
       "  <tbody>\n",
       "    <tr>\n",
       "      <th>370476</th>\n",
       "      <td>5</td>\n",
       "      <td>Kickboxer Kicked Butt Van Damme was GREAT</td>\n",
       "      <td>The movie was the best of Van Damme I have eve...</td>\n",
       "    </tr>\n",
       "    <tr>\n",
       "      <th>2430197</th>\n",
       "      <td>5</td>\n",
       "      <td>High-value relistenability</td>\n",
       "      <td>Being a fan of the Vengaboys and even being lu...</td>\n",
       "    </tr>\n",
       "    <tr>\n",
       "      <th>1680687</th>\n",
       "      <td>5</td>\n",
       "      <td>the hidden musical treasure</td>\n",
       "      <td>for those of us who are not familiar with clas...</td>\n",
       "    </tr>\n",
       "    <tr>\n",
       "      <th>1897436</th>\n",
       "      <td>4</td>\n",
       "      <td>review!!!!</td>\n",
       "      <td>im a huge scrubs fan, but i became interested ...</td>\n",
       "    </tr>\n",
       "    <tr>\n",
       "      <th>1256481</th>\n",
       "      <td>2</td>\n",
       "      <td>Disappointed in preconceived conclusion</td>\n",
       "      <td>Mr. Hancock does an excellent job providing hi...</td>\n",
       "    </tr>\n",
       "  </tbody>\n",
       "</table>\n",
       "</div>"
      ],
      "text/plain": [
       "         class_index                               review_title  \\\n",
       "370476             5  Kickboxer Kicked Butt Van Damme was GREAT   \n",
       "2430197            5                 High-value relistenability   \n",
       "1680687            5                the hidden musical treasure   \n",
       "1897436            4                                 review!!!!   \n",
       "1256481            2    Disappointed in preconceived conclusion   \n",
       "\n",
       "                                               review_text  \n",
       "370476   The movie was the best of Van Damme I have eve...  \n",
       "2430197  Being a fan of the Vengaboys and even being lu...  \n",
       "1680687  for those of us who are not familiar with clas...  \n",
       "1897436  im a huge scrubs fan, but i became interested ...  \n",
       "1256481  Mr. Hancock does an excellent job providing hi...  "
      ]
     },
     "execution_count": 3,
     "metadata": {},
     "output_type": "execute_result"
    }
   ],
   "source": [
    "train = pd.read_csv('./data/train.csv').sample(1000)\n",
    "test = pd.read_csv('./data/test.csv').sample(216)\n",
    "train.head()\n"
   ]
  },
  {
   "cell_type": "markdown",
   "id": "9000df20",
   "metadata": {},
   "source": [
    "### Searching for null values"
   ]
  },
  {
   "cell_type": "code",
   "execution_count": 4,
   "id": "5fe92e97",
   "metadata": {},
   "outputs": [
    {
     "name": "stdout",
     "output_type": "stream",
     "text": [
      "Columns with empty review text 0\n",
      "Columns with missing review text 0\n",
      "Columns with empty review title 0\n",
      "Columns with missing review title 0\n",
      "Columns with empty class index 0\n",
      "Columns with missing class index 0\n"
     ]
    }
   ],
   "source": [
    "print(\"Columns with empty review text\", len(train.loc[train['review_text'] == \"\"]))\n",
    "print(\"Columns with missing review text\", len(train.loc[train['review_text'] == None]))\n",
    "\n",
    "print(\"Columns with empty review title\", len(train.loc[train['review_title'] == \"\"]))\n",
    "print(\"Columns with missing review title\", len(train.loc[train['review_title'] == None]))\n",
    "\n",
    "print(\"Columns with empty class index\", len(train.loc[train['class_index'] == \"\"]))\n",
    "print(\"Columns with missing class index\", len(train.loc[train['class_index'] == None]))"
   ]
  },
  {
   "cell_type": "markdown",
   "id": "8015c34c",
   "metadata": {},
   "source": [
    "As we can see, the dataset does not contain any empty or missing values"
   ]
  },
  {
   "cell_type": "markdown",
   "id": "e757cdd7",
   "metadata": {},
   "source": [
    "### Studying the data"
   ]
  },
  {
   "cell_type": "code",
   "execution_count": 5,
   "id": "95512ad0",
   "metadata": {},
   "outputs": [
    {
     "data": {
      "text/plain": [
       "<AxesSubplot:>"
      ]
     },
     "execution_count": 5,
     "metadata": {},
     "output_type": "execute_result"
    },
    {
     "data": {
      "image/png": "[encoded data removed]",
      "text/plain": [
       "<Figure size 432x288 with 1 Axes>"
      ]
     },
     "metadata": {
      "needs_background": "light"
     },
     "output_type": "display_data"
    }
   ],
   "source": [
    "train['class_index'].value_counts().plot(kind='bar')"
   ]
  },
  {
   "cell_type": "markdown",
   "id": "4a6c377b",
   "metadata": {},
   "source": [
    "As the dataset creators have told us, the training dataset consists of 600 thousand samples for each review score, from 1 to 5."
   ]
  },
  {
   "cell_type": "markdown",
   "id": "77d4c019",
   "metadata": {},
   "source": [
    "##### Most frequent Words"
   ]
  },
  {
   "cell_type": "code",
   "execution_count": 6,
   "id": "cfa9616e",
   "metadata": {},
   "outputs": [
    {
     "name": "stderr",
     "output_type": "stream",
     "text": [
      "/home/joao/anaconda3/lib/python3.9/site-packages/seaborn/_decorators.py:36: FutureWarning: Pass the following variables as keyword args: x, y. From version 0.12, the only valid positional argument will be `data`, and passing other arguments without an explicit keyword will result in an error or misinterpretation.\n",
      "  warnings.warn(\n"
     ]
    },
    {
     "data": {
      "text/plain": [
       "[Text(0.5, 0, 'Words'), Text(0, 0.5, 'Occurrencies')]"
      ]
     },
     "execution_count": 6,
     "metadata": {},
     "output_type": "execute_result"
    },
    {
     "data": {
      "image/png": "[encoded data removed]",
      "text/plain": [
       "<Figure size 432x288 with 1 Axes>"
      ]
     },
     "metadata": {
      "needs_background": "light"
     },
     "output_type": "display_data"
    }
   ],
   "source": [
    "from collections import Counter\n",
    "\n",
    "mostUsed = pd.Series(' '.join(train['review_text']).lower().split()).value_counts()[:10]\n",
    "mostUsedGraph = sb.barplot(mostUsed.index, mostUsed.values)\n",
    "mostUsedGraph.set(xlabel=\"Words\", ylabel=\"Occurrencies\")"
   ]
  },
  {
   "cell_type": "markdown",
   "id": "b5dcaebe",
   "metadata": {},
   "source": [
    "### Treating the data\n",
    "##### Cleanup and Normalization"
   ]
  },
  {
   "cell_type": "code",
   "execution_count": 7,
   "id": "e6eec28f",
   "metadata": {},
   "outputs": [],
   "source": [
    "ps = PorterStemmer()\n",
    "\n",
    "def normalize(text):\n",
    "    # remove non alpha chars\n",
    "    text = re.sub('[^a-zA-Z]', ' ', text)   # TODO: CHECK THIS REGULAR EXPRESSION\n",
    "    # to lower-case and tokenize\n",
    "    text = text.lower().split()\n",
    "    # stemming and stop word removal\n",
    "    text = ' '.join([ps.stem(w) for w in text if not w in set(stopwords.words('english'))])\n",
    "\n",
    "    return text\n",
    "\n",
    "train['review_text'] = train['review_text'].apply(normalize)\n",
    "train['review_title'] = train['review_title'].apply(normalize)\n",
    "train.head()\n",
    "\n",
    "test['review_text'] = test['review_text'].apply(normalize)\n",
    "test['review_title'] = test['review_title'].apply(normalize)"
   ]
  },
  {
   "cell_type": "markdown",
   "id": "01577f01",
   "metadata": {},
   "source": [
    "##### Saving Preprocessed data\n",
    "Since the original dataset is very large, we can sample it and save the preprocessed data in a different csv file, so it can be used later."
   ]
  },
  {
   "cell_type": "code",
   "execution_count": 8,
   "id": "761c0fe7",
   "metadata": {},
   "outputs": [],
   "source": [
    "def savePreprocessedData(dataSet, fileName):\n",
    "    dataSet.to_csv(fileName, index=False)\n",
    "\n",
    "savePreprocessedData(train, './data/train_preprocessed.csv')\n",
    "savePreprocessedData(test, './data/test_preprocessed.csv')"
   ]
  },
  {
   "cell_type": "markdown",
   "id": "c99dff09",
   "metadata": {},
   "source": [
    "##### Generating wordclouds\n",
    "A visually appealing way of observing words in a dataset is by showing wordclouds. In order to make a single wordcloud for a whole column, we can join all the cells together. We then pass it to WordCloud to generate a wordcloud: it will automatically assign weights to words based on the number of occurrences of each word.\n",
    "\n",
    "These are the most common words in the reviews' titles:"
   ]
  },
  {
   "cell_type": "code",
   "execution_count": null,
   "id": "e1a4629f",
   "metadata": {},
   "outputs": [],
   "source": [
    "wordcloudTitle = WordCloud().generate(\" \".join([str(x) for x in train['review_title'].values]))\n",
    "\n",
    "plt.figure()\n",
    "plt.imshow(wordcloudTitle)\n",
    "plt.axis('off')\n",
    "plt.show()"
   ]
  },
  {
   "cell_type": "markdown",
   "id": "a7505d6d",
   "metadata": {},
   "source": [
    "These are the most common words in the reviews' text:"
   ]
  },
  {
   "cell_type": "code",
   "execution_count": null,
   "id": "109e5ec2",
   "metadata": {},
   "outputs": [],
   "source": [
    "wordcloudText = WordCloud().generate(\" \".join([str(x) for x in train['review_text'].values]))\n",
    "\n",
    "plt.figure()\n",
    "plt.imshow(wordcloudText)\n",
    "plt.axis('off')\n",
    "plt.show()"
   ]
  },
  {
   "cell_type": "markdown",
   "id": "c9a01b43",
   "metadata": {},
   "source": [
    "It would also be interesting to visualize a wordcloud for each of the reviews' classes (1 to 5):"
   ]
  },
  {
   "cell_type": "code",
   "execution_count": null,
   "id": "5dd6184e",
   "metadata": {},
   "outputs": [],
   "source": [
    "wordsPerClass = {\n",
    "    1: (\"\", \"\"), # title and text\n",
    "    2: (\"\", \"\"),\n",
    "    3: (\"\", \"\"),\n",
    "    4: (\"\", \"\"),\n",
    "    5: (\"\", \"\"),\n",
    "}\n",
    "\n",
    "for i in range(len(train)):\n",
    "    classId = train['class_index'].values[i]\n",
    "    titleWords = train['review_title'].values[i]\n",
    "    textWords = train['review_text'].values[i]\n",
    "    \n",
    "    wordsPerClass[classId] = (wordsPerClass[classId][0] + titleWords, wordsPerClass[classId][1] + textWords)\n",
    "\n",
    "for i in range(1, 6):\n",
    "    # Word cloud for class's titles\n",
    "    wordcloudTitle = WordCloud().generate(wordsPerClass[i][0])\n",
    "    print(f\"Word cloud for class {i}'s titles:\")\n",
    "\n",
    "    plt.figure()\n",
    "    plt.imshow(wordcloudTitle)\n",
    "    plt.axis('off')\n",
    "    plt.show()\n",
    "\n",
    "    # Word cloud for class's text\n",
    "    wordcloudText = WordCloud().generate(wordsPerClass[i][1])\n",
    "    print(f\"Word cloud for class {i}'s text:\")\n",
    "\n",
    "    plt.figure()\n",
    "    plt.imshow(wordcloudText)\n",
    "    plt.axis('off')\n",
    "    plt.show()"
   ]
  },
  {
   "cell_type": "markdown",
   "id": "83a47e52",
   "metadata": {},
   "source": [
    "### Generating a data set\n",
    "#### Obtaining features from the Bag-of-Words model"
   ]
  },
  {
   "cell_type": "code",
   "execution_count": null,
   "id": "f839739c",
   "metadata": {},
   "outputs": [],
   "source": [
    "train = pd.read_csv('./data/train_preprocessed.csv')\n",
    "test = pd.read_csv('./data/test_preprocessed.csv')\n",
    "\n",
    "vectorizer = CountVectorizer()\n",
    "\n",
    "trainArr = list(map(str, train['review_title']))\n",
    "\n",
    "titleWords = vectorizer.fit_transform(trainArr).toarray()\n",
    "\n",
    "print(titleWords.shape)\n",
    "print(vectorizer.get_feature_names())"
   ]
  },
  {
   "cell_type": "markdown",
   "id": "d872871e",
   "metadata": {},
   "source": [
    "### Obtaining the Test classes"
   ]
  },
  {
   "cell_type": "code",
   "execution_count": 25,
   "id": "e7025165",
   "metadata": {},
   "outputs": [],
   "source": [
    "y = train['class_index']\n",
    "\n",
    "# print(X.shape, y.shape)"
   ]
  },
  {
   "cell_type": "markdown",
   "id": "59ea43d9",
   "metadata": {},
   "source": [
    "### Training Classifiers"
   ]
  },
  {
   "cell_type": "code",
   "execution_count": 46,
   "id": "c8dc25e8",
   "metadata": {},
   "outputs": [
    {
     "name": "stdout",
     "output_type": "stream",
     "text": [
      "[4 3 2 1 3 1 1 2 1 5 4 3 1 3 4 5 1 1 2 4 3 1 1 3 5 3 1 4 3 3 4 3 3 5 1 4 1\n",
      " 2 4 4 3 4 1 1 2 5 1 2 3 1 3 4 5 5 3 3 1 5 3 3 1 3 1 1 1 3 4 5 3 5 4 3 3 1\n",
      " 4 4 5 5 2 3 4 5 4 5 5 4 3 1 2 4 1 3 2 1 1 2 2 1 1 4 4 3 5 2 3 1 4 1 1 1 4\n",
      " 5 4 1 2 4 1 1 3 1 1 4 4 1 5 1 3 1 2 3 4 2 2 5 5 1 3 1 4 1 5 1 1 1 1 4 1 3\n",
      " 4 1 1 3 4 3 1 1 5 2 2 4 4 1 2 1 1 1 1 5 5 1 2 4 1 2 4 3 1 1 3 4 3 1 2 1 5\n",
      " 2 2 1 1 2 4 5 1 3 4 5 3 5 5 1 1 4 4 1 5 1 4 5 1 1 3 2 3 3 2 1]\n"
     ]
    }
   ],
   "source": [
    "clf = MultinomialNB()\n",
    "clf.fit(titleWords, y)\n",
    "\n",
    "testArr = list(map(str, test['review_title']))\n",
    "testVector = vectorizer.transform(testArr).toarray()\n",
    "\n",
    "y_pred = clf.predict(testVector)\n",
    "print(y_pred)"
   ]
  },
  {
   "cell_type": "markdown",
   "id": "20db34f2",
   "metadata": {},
   "source": [
    "### Analyse Results"
   ]
  },
  {
   "cell_type": "code",
   "execution_count": 48,
   "id": "0fa05366",
   "metadata": {},
   "outputs": [
    {
     "name": "stdout",
     "output_type": "stream",
     "text": [
      "[[24  1  1  5  4]\n",
      " [13 11 13  8  3]\n",
      " [19  6 17  8  5]\n",
      " [ 7  5  8 11  8]\n",
      " [10  4  4 10 11]]\n",
      "Accuracy: 0.7142857142857143\n",
      "Precision: 0.6486486486486487\n",
      "Recall: 0.96\n",
      "F1: 0.7741935483870968\n"
     ]
    }
   ],
   "source": [
    "# confusion matrix\n",
    "confusionMatrix = confusion_matrix(test['class_index'], y_pred)\n",
    "print(confusionMatrix)\n",
    "tp = confusionMatrix[0][0]\n",
    "fn = confusionMatrix[0][1]\n",
    "fp = confusionMatrix[1][0]\n",
    "tn = confusionMatrix[1][1]\n",
    "\n",
    "accuracy = (tn+tp)/(tp+fn+fp+tn)\n",
    "precision = tp/(tp+fp)\n",
    "recall = tp/(tp+fn)\n",
    "f1 = 2 * (precision*recall) / (precision + recall)\n",
    "# accuracy, precision, recall, f1\n",
    "# your code here\n",
    "print(\"Accuracy:\", accuracy)\n",
    "print(\"Precision:\", precision)\n",
    "print(\"Recall:\", recall)\n",
    "print(\"F1:\", f1)"
   ]
  }
 ],
 "metadata": {
  "interpreter": {
   "hash": "58873ede596a2747dd7f16e364cae25e7acc47924c64b83e83112f7e389e5939"
  },
  "kernelspec": {
   "display_name": "Python 3.9.12 ('base')",
   "language": "python",
   "name": "python3"
  },
  "language_info": {
   "codemirror_mode": {
    "name": "ipython",
    "version": 3
   },
   "file_extension": ".py",
   "mimetype": "text/x-python",
   "name": "python",
   "nbconvert_exporter": "python",
   "pygments_lexer": "ipython3",
   "version": "3.9.7"
  }
 },
 "nbformat": 4,
 "nbformat_minor": 5
}

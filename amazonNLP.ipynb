{
 "cells": [
  {
   "cell_type": "markdown",
   "id": "c7640a6c",
   "metadata": {},
   "source": [
    "# Natural Language Processing with Amazon Reviews\n",
    "\n",
    "Developed for the second project of the Artificial Intelligence course\n",
    "\n",
    "## Setup and Environment\n",
    "\n",
    "After installing Python and the necessary packages, run the following code to import them:"
   ]
  },
  {
   "cell_type": "code",
   "execution_count": 47,
   "id": "c28d746a",
   "metadata": {},
   "outputs": [],
   "source": [
    "%matplotlib inline\n",
    "\n",
    "import pandas as pd \n",
    "import numpy as np\n",
    "import matplotlib.pyplot as plt\n",
    "import seaborn as sb\n",
    "from sklearn.feature_extraction.text import CountVectorizer, TfidfVectorizer\n",
    "from sklearn.naive_bayes import MultinomialNB\n",
    "from sklearn.svm import LinearSVC\n",
    "from sklearn.linear_model import LogisticRegression, Perceptron\n",
    "from sklearn.tree import DecisionTreeClassifier\n",
    "from sklearn.ensemble import RandomForestClassifier\n",
    "from sklearn.metrics import *\n",
    "from sklearn.neighbors import KNeighborsClassifier\n",
    "from sklearn.neural_network import MLPClassifier\n",
    "\n",
    "MAX_FEATURES = 10000"
   ]
  },
  {
   "cell_type": "markdown",
   "id": "23e738a9",
   "metadata": {},
   "source": [
    "## Implementation work"
   ]
  },
  {
   "cell_type": "markdown",
   "id": "83a47e52",
   "metadata": {},
   "source": [
    "### Generating a data set\n",
    "#### Obtaining features from the Bag-of-Words model"
   ]
  },
  {
   "cell_type": "code",
   "execution_count": 14,
   "id": "f839739c",
   "metadata": {
    "scrolled": true
   },
   "outputs": [],
   "source": [
    "train = pd.read_csv('./data/train_preprocessed.csv')\n",
    "test = pd.read_csv('./data/test_preprocessed.csv')"
   ]
  },
  {
   "cell_type": "markdown",
   "id": "b57253aa",
   "metadata": {},
   "source": [
    "Please choose one of the following vectorizers:\n",
    "#### Creating regular CountVectorizers (default)"
   ]
  },
  {
   "cell_type": "code",
   "execution_count": 15,
   "id": "9c6883c9",
   "metadata": {},
   "outputs": [],
   "source": [
    "titleVectorizer = CountVectorizer(max_features=MAX_FEATURES)\n",
    "textVectorizer = CountVectorizer(max_features=MAX_FEATURES)"
   ]
  },
  {
   "cell_type": "markdown",
   "id": "f00ce050",
   "metadata": {},
   "source": [
    "#### Creating 1-hot vectors"
   ]
  },
  {
   "cell_type": "code",
   "execution_count": null,
   "id": "a89c77a8",
   "metadata": {},
   "outputs": [],
   "source": [
    "titleVectorizer = CountVectorizer(binary=True, max_features=MAX_FEATURES)\n",
    "textVectorizer = CountVectorizer(binary=True, max_features=MAX_FEATURES)"
   ]
  },
  {
   "cell_type": "markdown",
   "id": "dc81a00a",
   "metadata": {},
   "source": [
    "#### Creating TF-IDF vectors"
   ]
  },
  {
   "cell_type": "code",
   "execution_count": null,
   "id": "c86fb0d4",
   "metadata": {
    "scrolled": true
   },
   "outputs": [],
   "source": [
    "titleVectorizer = TfidfVectorizer(max_features=MAX_FEATURES)\n",
    "textVectorizer = TfidfVectorizer(max_features=MAX_FEATURES)"
   ]
  },
  {
   "cell_type": "markdown",
   "id": "8f5c0e16",
   "metadata": {},
   "source": [
    "#### Creating bi-gram CountVectorizors"
   ]
  },
  {
   "cell_type": "code",
   "execution_count": 75,
   "id": "5a49379a",
   "metadata": {},
   "outputs": [],
   "source": [
    "titleVectorizer = CountVectorizer(ngram_range=(1, 2), max_features=MAX_FEATURES)\n",
    "textVectorizer = CountVectorizer(ngram_range=(1, 2), max_features=MAX_FEATURES)"
   ]
  },
  {
   "cell_type": "markdown",
   "id": "ff1fe250",
   "metadata": {},
   "source": [
    "#### Creating bi-gram TF-IDF vectors"
   ]
  },
  {
   "cell_type": "code",
   "execution_count": 16,
   "id": "87a4a810",
   "metadata": {},
   "outputs": [],
   "source": [
    "titleVectorizer = TfidfVectorizer(ngram_range=(1, 2), max_features=MAX_FEATURES)\n",
    "textVectorizer = TfidfVectorizer(ngram_range=(1, 2), max_features=MAX_FEATURES)"
   ]
  },
  {
   "cell_type": "markdown",
   "id": "cd345607",
   "metadata": {},
   "source": [
    "#### Creating tri-gram TF-IDF vectors"
   ]
  },
  {
   "cell_type": "code",
   "execution_count": 17,
   "id": "3c90931c",
   "metadata": {},
   "outputs": [],
   "source": [
    "titleVectorizer = TfidfVectorizer(ngram_range=(1, 3), max_features=MAX_FEATURES)\n",
    "textVectorizer = TfidfVectorizer(ngram_range=(1, 3), max_features=MAX_FEATURES)"
   ]
  },
  {
   "cell_type": "markdown",
   "id": "b0f77787",
   "metadata": {},
   "source": [
    "#### Transforming the dataset"
   ]
  },
  {
   "cell_type": "code",
   "execution_count": 18,
   "id": "4449108b",
   "metadata": {},
   "outputs": [
    {
     "name": "stdout",
     "output_type": "stream",
     "text": [
      "(5000, 10000)\n",
      "(5000, 10000)\n",
      "(5000, 20000)\n"
     ]
    }
   ],
   "source": [
    "trainTitleArr = list(map(str, train['review_title']))\n",
    "trainTextArr = list(map(str, train['review_text']))\n",
    "\n",
    "titleWords = titleVectorizer.fit_transform(trainTitleArr).toarray()\n",
    "textWords = textVectorizer.fit_transform(trainTextArr).toarray()\n",
    "\n",
    "allWords = np.array([np.concatenate((titleWords[i], textWords[i])) for i in range(len(titleWords))])\n",
    "\n",
    "print(titleWords.shape)\n",
    "print(textWords.shape)\n",
    "print(allWords.shape)"
   ]
  },
  {
   "cell_type": "markdown",
   "id": "d872871e",
   "metadata": {},
   "source": [
    "### Training Classifiers and Prediction"
   ]
  },
  {
   "cell_type": "code",
   "execution_count": 37,
   "id": "e7025165",
   "metadata": {},
   "outputs": [],
   "source": [
    "def predict(clf, train, test, **arg):\n",
    "    y = train['class_index']\n",
    "    # Train with allWords\n",
    "    clf.fit(allWords, y, **arg)\n",
    "    \n",
    "    testTitleArr = list(map(str, test['review_title']))\n",
    "    testTextArr = list(map(str, test['review_text']))\n",
    "\n",
    "    testTitleVector = titleVectorizer.transform(testTitleArr).toarray()\n",
    "    testTextVector = textVectorizer.transform(testTextArr).toarray()\n",
    "\n",
    "    testAllWords = np.array([np.concatenate((testTitleVector[i], testTextVector[i])) for i in range(len(testTitleVector))])\n",
    "\n",
    "    return clf.predict(testAllWords)\n",
    "\n",
    "# MultinomialNB()"
   ]
  },
  {
   "cell_type": "markdown",
   "id": "20db34f2",
   "metadata": {},
   "source": [
    "### Analyse Results"
   ]
  },
  {
   "cell_type": "code",
   "execution_count": 35,
   "id": "0fa05366",
   "metadata": {},
   "outputs": [],
   "source": [
    "def analyze(prediction, test):\n",
    "    y_test = test['class_index']\n",
    "\n",
    "    # confusion matrix\n",
    "    confusionMatrix = confusion_matrix(y_test, prediction)\n",
    "    print(\"Confusion Matrix:\")\n",
    "    print(confusionMatrix)\n",
    "\n",
    "    accuracy = accuracy_score(y_test, prediction)\n",
    "\n",
    "    print(\"Accuracy: \", accuracy * 100, \" %\")\n",
    "    print(\"Precision: \", precision_score(y_test, prediction, average='weighted') * 100, \" %\")\n",
    "    print('Recall: ', recall_score(y_test, prediction, average='weighted') * 100, \" %\")\n",
    "    print('F1: ', f1_score(y_test, prediction, average='weighted') * 100, \" %\")"
   ]
  },
  {
   "cell_type": "markdown",
   "id": "19b98685",
   "metadata": {},
   "source": [
    "### K-Nearest Neighbor (K = 5)"
   ]
  },
  {
   "cell_type": "code",
   "execution_count": 38,
   "id": "72624c21",
   "metadata": {},
   "outputs": [
    {
     "name": "stdout",
     "output_type": "stream",
     "text": [
      "MultinomialNB Results:\n",
      "Confusion Matrix:\n",
      "[[96 35 29 24 16]\n",
      " [66 46 41 26 21]\n",
      " [48 30 69 32 21]\n",
      " [27 26 47 56 44]\n",
      " [30 22 39 50 59]]\n",
      "Accuracy:  32.6  %\n",
      "Precision:  32.39714744639546  %\n",
      "Recall:  32.6  %\n",
      "F1:  32.15275590745132  %\n"
     ]
    }
   ],
   "source": [
    "prediction = predict(KNeighborsClassifier(n_neighbors=5), train, test)\n",
    "print(\"K-Nearest Neighbor Results:\")\n",
    "analyze(prediction, test)"
   ]
  },
  {
   "cell_type": "markdown",
   "id": "b7eaad8f-0f60-42af-9747-d1669b2c1cf2",
   "metadata": {},
   "source": [
    "### Multinomial Naive Bays"
   ]
  },
  {
   "cell_type": "code",
   "execution_count": 39,
   "id": "84fb6fec-daf4-4abf-861b-537f454143c3",
   "metadata": {},
   "outputs": [
    {
     "name": "stdout",
     "output_type": "stream",
     "text": [
      "MultinomialNB Results:\n",
      "Confusion Matrix:\n",
      "[[100  57  24   8  11]\n",
      " [ 45  73  56  19   7]\n",
      " [ 20  48  87  27  18]\n",
      " [  5  13  51  78  53]\n",
      " [  8   7  15  42 128]]\n",
      "Accuracy:  46.6  %\n",
      "Precision:  46.84025585313622  %\n",
      "Recall:  46.6  %\n",
      "F1:  46.57606894758912  %\n"
     ]
    }
   ],
   "source": [
    "prediction = predict(MultinomialNB(), train, test, sample_weight=1.0)\n",
    "print(\"MultinomialNB Results:\")\n",
    "analyze(prediction, test)"
   ]
  },
  {
   "cell_type": "markdown",
   "id": "2153922a-923c-4d3e-b54d-663d2940311e",
   "metadata": {},
   "source": [
    "### Random Forest"
   ]
  },
  {
   "cell_type": "code",
   "execution_count": 40,
   "id": "70143506-709a-44e8-8024-4e74a3760a57",
   "metadata": {},
   "outputs": [
    {
     "name": "stdout",
     "output_type": "stream",
     "text": [
      "RandomForestClassifier Results:\n",
      "Confusion Matrix:\n",
      "[[116  29  28  10  17]\n",
      " [ 63  51  40  20  26]\n",
      " [ 41  43  60  27  29]\n",
      " [ 20  15  39  53  73]\n",
      " [ 12   2  17  40 129]]\n",
      "Accuracy:  40.9  %\n",
      "Precision:  39.49652768332553  %\n",
      "Recall:  40.9  %\n",
      "F1:  39.45870553217365  %\n"
     ]
    }
   ],
   "source": [
    "prediction = predict(RandomForestClassifier(), train, test, sample_weight=1.0)\n",
    "print(\"RandomForestClassifier Results:\")\n",
    "analyze(prediction, test)"
   ]
  },
  {
   "cell_type": "markdown",
   "id": "25173d2c-fb89-4769-8c29-7d7051e24a76",
   "metadata": {},
   "source": [
    "### Decision Tree"
   ]
  },
  {
   "cell_type": "code",
   "execution_count": 41,
   "id": "72b2289b-c402-4699-bfd6-13a85b28543d",
   "metadata": {},
   "outputs": [
    {
     "name": "stdout",
     "output_type": "stream",
     "text": [
      "DecisionTreeClassifier Results:\n",
      "Confusion Matrix:\n",
      "[[70 48 40 21 21]\n",
      " [59 50 35 33 23]\n",
      " [38 37 54 41 30]\n",
      " [16 32 50 56 46]\n",
      " [19 26 30 48 77]]\n",
      "Accuracy:  30.7  %\n",
      "Precision:  30.724903921164852  %\n",
      "Recall:  30.7  %\n",
      "F1:  30.707627733362475  %\n"
     ]
    }
   ],
   "source": [
    "prediction = predict(DecisionTreeClassifier(), train, test, sample_weight=1.0)\n",
    "print(\"DecisionTreeClassifier Results:\")\n",
    "analyze(prediction, test)"
   ]
  },
  {
   "cell_type": "markdown",
   "id": "c3dae7ab-a235-4ddb-932d-43885ae6eb33",
   "metadata": {},
   "source": [
    "### Perceptron"
   ]
  },
  {
   "cell_type": "code",
   "execution_count": 43,
   "id": "8423c33b-12a9-4e43-9c6c-55ffef0b0397",
   "metadata": {},
   "outputs": [
    {
     "name": "stdout",
     "output_type": "stream",
     "text": [
      "Perceptron Results:\n",
      "Confusion Matrix:\n",
      "[[113  32  15  23  17]\n",
      " [ 60  40  36  45  19]\n",
      " [ 19  34  61  53  33]\n",
      " [ 10   6  29  94  61]\n",
      " [  9   4   8  67 112]]\n",
      "Accuracy:  42.0  %\n",
      "Precision:  41.71823667493293  %\n",
      "Recall:  42.0  %\n",
      "F1:  40.988838542531006  %\n"
     ]
    }
   ],
   "source": [
    "prediction = predict(Perceptron(), train, test, sample_weight=1.0)\n",
    "print(\"Perceptron Results:\")\n",
    "analyze(prediction, test)"
   ]
  },
  {
   "cell_type": "markdown",
   "id": "8a5bc0ee-4846-47fc-ad85-d9ce622c250f",
   "metadata": {},
   "source": [
    "### Logistic Regression"
   ]
  },
  {
   "cell_type": "code",
   "execution_count": 42,
   "id": "f2802cfd-e474-4094-8ec0-cf71b38781a7",
   "metadata": {},
   "outputs": [
    {
     "name": "stderr",
     "output_type": "stream",
     "text": [
      "c:\\Users\\monki\\Anaconda3\\lib\\site-packages\\sklearn\\linear_model\\_logistic.py:814: ConvergenceWarning: lbfgs failed to converge (status=1):\n",
      "STOP: TOTAL NO. of ITERATIONS REACHED LIMIT.\n",
      "\n",
      "Increase the number of iterations (max_iter) or scale the data as shown in:\n",
      "    https://scikit-learn.org/stable/modules/preprocessing.html\n",
      "Please also refer to the documentation for alternative solver options:\n",
      "    https://scikit-learn.org/stable/modules/linear_model.html#logistic-regression\n",
      "  n_iter_i = _check_optimize_result(\n"
     ]
    },
    {
     "name": "stdout",
     "output_type": "stream",
     "text": [
      "LogisticRegression Results:\n",
      "Confusion Matrix:\n",
      "[[116  46  18  10  10]\n",
      " [ 53  68  47  21  11]\n",
      " [ 19  51  78  34  18]\n",
      " [  5  17  33  80  65]\n",
      " [ 10   6  14  42 128]]\n",
      "Accuracy:  47.0  %\n",
      "Precision:  46.463772788793406  %\n",
      "Recall:  47.0  %\n",
      "F1:  46.64454262301147  %\n"
     ]
    }
   ],
   "source": [
    "prediction = predict(LogisticRegression(), train, test, sample_weight=1.0)\n",
    "print(\"LogisticRegression Results:\")\n",
    "analyze(prediction, test)"
   ]
  },
  {
   "cell_type": "markdown",
   "id": "49b8f22b-96f3-4977-869d-574fdfe5289d",
   "metadata": {},
   "source": [
    "### Linear SVC"
   ]
  },
  {
   "cell_type": "code",
   "execution_count": 45,
   "id": "e3947cd4-d0a6-43a6-8c5e-1f8f74704ba8",
   "metadata": {},
   "outputs": [
    {
     "name": "stdout",
     "output_type": "stream",
     "text": [
      "LinearSVC Results:\n",
      "Confusion Matrix:\n",
      "[[111  48  19  13   9]\n",
      " [ 60  65  39  26  10]\n",
      " [ 19  48  82  32  19]\n",
      " [ 10  16  40  81  53]\n",
      " [  8   6  18  41 127]]\n",
      "Accuracy:  46.6  %\n",
      "Precision:  46.10488887272591  %\n",
      "Recall:  46.6  %\n",
      "F1:  46.30945557768168  %\n"
     ]
    }
   ],
   "source": [
    "prediction = predict(LinearSVC(), train, test, sample_weight=1.0)\n",
    "print(\"LinearSVC Results:\")\n",
    "analyze(prediction, test)"
   ]
  },
  {
   "cell_type": "markdown",
   "id": "415ecb19",
   "metadata": {},
   "source": [
    "### Neural Network (Multi-Layer Perceptron)"
   ]
  },
  {
   "cell_type": "code",
   "execution_count": 49,
   "id": "66c77fe8-4486-42e7-a500-0594c36d7106",
   "metadata": {},
   "outputs": [
    {
     "name": "stdout",
     "output_type": "stream",
     "text": [
      "NeuralNetwork Results:\n",
      "Confusion Matrix:\n",
      "[[106  48  24  15   7]\n",
      " [ 57  64  45  27   7]\n",
      " [ 18  49  83  37  13]\n",
      " [  6  17  47  73  57]\n",
      " [  8   7  17  59 109]]\n",
      "Accuracy:  43.5  %\n",
      "Precision:  43.69066704308459  %\n",
      "Recall:  43.5  %\n",
      "F1:  43.56306754905318  %\n"
     ]
    }
   ],
   "source": [
    "prediction = predict(MLPClassifier(), train, test)\n",
    "print(\"NeuralNetwork Results:\")\n",
    "analyze(prediction, test)"
   ]
  }
 ],
 "metadata": {
  "interpreter": {
   "hash": "141daa10505db807b372138034ec5408490e8f64ccf92a35eda8bf94ce848d30"
  },
  "kernelspec": {
   "display_name": "Python 3.9.12 ('base')",
   "language": "python",
   "name": "python3"
  },
  "language_info": {
   "codemirror_mode": {
    "name": "ipython",
    "version": 3
   },
   "file_extension": ".py",
   "mimetype": "text/x-python",
   "name": "python",
   "nbconvert_exporter": "python",
   "pygments_lexer": "ipython3",
   "version": "3.9.12"
  }
 },
 "nbformat": 4,
 "nbformat_minor": 5
}
